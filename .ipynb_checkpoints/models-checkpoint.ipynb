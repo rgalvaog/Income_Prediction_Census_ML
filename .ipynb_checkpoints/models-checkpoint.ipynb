{
 "cells": [
  {
   "cell_type": "markdown",
   "id": "aebf0b25-5869-4851-9fb8-609d66789367",
   "metadata": {},
   "source": [
    "# Predicting Income with Census Data: Modeling"
   ]
  },
  {
   "cell_type": "markdown",
   "id": "332ae776-25dc-4ab1-b6a1-9fd44eef8037",
   "metadata": {},
   "source": [
    "Rafael G. Guerra | April 2022"
   ]
  },
  {
   "cell_type": "markdown",
   "id": "b28422b1-07a9-4b4c-ac9b-7f419b439e7b",
   "metadata": {},
   "source": [
    "We will be comparing the performance of two popular models for Machine learning: (1) logistic regression, and (2) random forests. We will try models with slightly different parameters and will attempt to account for class imbalance with SMOTE."
   ]
  },
  {
   "cell_type": "markdown",
   "id": "0802ccda-88e4-4569-a910-7d52656b6e0b",
   "metadata": {},
   "source": [
    "## Import Libraries"
   ]
  },
  {
   "cell_type": "code",
   "execution_count": 67,
   "id": "175960e7-a1d5-43f5-a2f1-d61a78ba7aea",
   "metadata": {},
   "outputs": [],
   "source": [
    "import warnings\n",
    "warnings.filterwarnings('ignore')"
   ]
  },
  {
   "cell_type": "code",
   "execution_count": 68,
   "id": "3562770a-b9b5-4e09-af52-7cac4f80bff0",
   "metadata": {},
   "outputs": [],
   "source": [
    "import pandas as pd\n",
    "import numpy as np"
   ]
  },
  {
   "cell_type": "code",
   "execution_count": 110,
   "id": "f46573df-c99f-4d59-83f3-57812c9146d4",
   "metadata": {},
   "outputs": [],
   "source": [
    "from sklearn.linear_model import LogisticRegression\n",
    "from sklearn.ensemble import RandomForestClassifier\n",
    "from sklearn.preprocessing import StandardScaler\n",
    "from sklearn.model_selection import GridSearchCV\n",
    "from scipy.stats import loguniform\n",
    "import matplotlib.pyplot as plt\n",
    "import seaborn as sns\n",
    "from sklearn import metrics"
   ]
  },
  {
   "cell_type": "markdown",
   "id": "083dacc3-bf13-4599-8fde-432a3fdf9c0d",
   "metadata": {},
   "source": [
    "## Import Data"
   ]
  },
  {
   "cell_type": "code",
   "execution_count": 70,
   "id": "685deb96-35e5-431d-9d25-ed2f2cc99290",
   "metadata": {},
   "outputs": [],
   "source": [
    "train_data = pd.read_csv('train_eda.csv')\n",
    "test_data = pd.read_csv('test_eda.csv')"
   ]
  },
  {
   "cell_type": "markdown",
   "id": "68267cd8-a10f-43df-8d3b-d14d3ae0f034",
   "metadata": {},
   "source": [
    "## Logistic Regression Models"
   ]
  },
  {
   "cell_type": "markdown",
   "id": "dc3f3b0c-6d28-49d7-9c83-a41263a7b54b",
   "metadata": {},
   "source": [
    "We will first try a simple classification algorithm -- logistic regression. We will split the data into the X component (all features) and the y compontent (the target variable, INCOME). We can then evaluate the model through its confusion matric and AUC (area under the curve)"
   ]
  },
  {
   "cell_type": "code",
   "execution_count": 73,
   "id": "44eb4a1c-4358-474d-a598-dc8514fcd796",
   "metadata": {},
   "outputs": [],
   "source": [
    "data_train = train_data.values\n",
    "data_test = test_data.values"
   ]
  },
  {
   "cell_type": "code",
   "execution_count": 74,
   "id": "8ccd183a-40e2-4544-9831-c32e865d23c0",
   "metadata": {},
   "outputs": [],
   "source": [
    "X_train, y_train = data_train[:, :-1], data_train[:, -1]\n",
    "X_test, y_test = data_test[:, :-1], data_test[:, -1]"
   ]
  },
  {
   "cell_type": "markdown",
   "id": "18b882ce-d764-421b-b742-0f1ac1cc0527",
   "metadata": {},
   "source": [
    "### Parameter Choices"
   ]
  },
  {
   "cell_type": "markdown",
   "id": "e060ef38-b2a8-4e83-b581-9c028e5f1c5c",
   "metadata": {},
   "source": [
    "Usually, I would run GridSearchCV and try several parameter combinations to maximize accuracy. However, given the size of the datasets, it is a computationally expensive operation for this exercise and instead I will only try different solvers and different penalties, since from experience, these are two of the biggest factors that may lead to different performances in a logistic regression"
   ]
  },
  {
   "cell_type": "code",
   "execution_count": 75,
   "id": "598339af-b15b-40c4-b0a5-854cfd3720e3",
   "metadata": {},
   "outputs": [
    {
     "name": "stdout",
     "output_type": "stream",
     "text": [
      "lbfgs 0.9444778573003749\n",
      "liblinear 0.9518854874601552\n",
      "sag 0.9422826326657445\n",
      "saga 0.9420921793869409\n"
     ]
    }
   ],
   "source": [
    "solvers = ['lbfgs','liblinear','sag','saga']\n",
    "for solver in solvers:\n",
    "    model = LogisticRegression(random_state=0,solver=solver).fit(X_train, y_train)\n",
    "    print(solver,model.score(X_test,y_test))"
   ]
  },
  {
   "cell_type": "code",
   "execution_count": 76,
   "id": "668e06d6-efe7-4a97-b2ae-1d1f931474dd",
   "metadata": {},
   "outputs": [
    {
     "name": "stdout",
     "output_type": "stream",
     "text": [
      "l1 0.9518453920330386\n",
      "l2 0.9518854874601552\n"
     ]
    }
   ],
   "source": [
    "penalties = ['l1', 'l2']\n",
    "for penalty in penalties:\n",
    "    model = LogisticRegression(solver='liblinear',penalty=penalty).fit(X_train, y_train)\n",
    "    print(penalty,model.score(X_test,y_test))"
   ]
  },
  {
   "cell_type": "markdown",
   "id": "e881e7c7-5192-4171-9835-7070d920c08f",
   "metadata": {},
   "source": [
    "Looks like a liblinear l2 model is our best choice!"
   ]
  },
  {
   "cell_type": "code",
   "execution_count": 77,
   "id": "29d05852-5245-4324-a490-292e0a1bd63f",
   "metadata": {},
   "outputs": [],
   "source": [
    "logReg = LogisticRegression(solver='liblinear',penalty='l2').fit(X_train, y_train)"
   ]
  },
  {
   "cell_type": "markdown",
   "id": "02fbc8e5-396f-4f1f-bd63-2fcef5f23a70",
   "metadata": {},
   "source": [
    "### Accuracy"
   ]
  },
  {
   "cell_type": "markdown",
   "id": "3bd57e7f-e77c-4e5f-90ff-cc7c761513c8",
   "metadata": {},
   "source": [
    "Very good accuracy!"
   ]
  },
  {
   "cell_type": "code",
   "execution_count": 78,
   "id": "c0ef0abd-4bdd-4c45-a860-a7dc63f2fa9f",
   "metadata": {},
   "outputs": [
    {
     "data": {
      "text/plain": [
       "0.9518854874601552"
      ]
     },
     "execution_count": 78,
     "metadata": {},
     "output_type": "execute_result"
    }
   ],
   "source": [
    "logReg.score(X_test, y_test)"
   ]
  },
  {
   "cell_type": "markdown",
   "id": "ebe9d164-62e8-4cfb-8efb-0b81803f8cdf",
   "metadata": {},
   "source": [
    "### ROC Curve"
   ]
  },
  {
   "cell_type": "markdown",
   "id": "77d52d39-a81d-4584-914b-d8469c1a80a8",
   "metadata": {},
   "source": [
    "Very good ROC!"
   ]
  },
  {
   "cell_type": "code",
   "execution_count": 79,
   "id": "c1638abb-4447-4aed-95c1-802680897048",
   "metadata": {},
   "outputs": [
    {
     "data": {
      "text/plain": [
       "<sklearn.metrics._plot.roc_curve.RocCurveDisplay at 0x7f8a326c1fd0>"
      ]
     },
     "execution_count": 79,
     "metadata": {},
     "output_type": "execute_result"
    },
    {
     "data": {
      "image/png": "[encoded data removed]",
      "text/plain": [
       "<Figure size 432x288 with 1 Axes>"
      ]
     },
     "metadata": {
      "needs_background": "light"
     },
     "output_type": "display_data"
    }
   ],
   "source": [
    "metrics.plot_roc_curve(logReg, X_test, y_test) "
   ]
  },
  {
   "cell_type": "markdown",
   "id": "fca25d6a-a370-4712-820c-5b7667e74f55",
   "metadata": {},
   "source": [
    "### AUC (Area Under Curve)"
   ]
  },
  {
   "cell_type": "markdown",
   "id": "7336845a-0adf-487c-bd2d-6c2004ff5bc4",
   "metadata": {},
   "source": [
    "Very good AUC!"
   ]
  },
  {
   "cell_type": "code",
   "execution_count": 81,
   "id": "9cd238e2-9070-464e-93b7-3a9b879e66ee",
   "metadata": {},
   "outputs": [
    {
     "data": {
      "text/plain": [
       "0.9406543014143552"
      ]
     },
     "execution_count": 81,
     "metadata": {},
     "output_type": "execute_result"
    }
   ],
   "source": [
    "metrics.roc_auc_score(y_test, logReg.predict_proba(X_test)[:, 1])"
   ]
  },
  {
   "cell_type": "markdown",
   "id": "c191b15c-a095-4665-92af-6c12c669d4b9",
   "metadata": {},
   "source": [
    "### Confusion Matrix"
   ]
  },
  {
   "cell_type": "markdown",
   "id": "090392cc-4149-44a4-b74d-329190e90efe",
   "metadata": {},
   "source": [
    "A-ha! We have a serious problem with imbalanced data. The model has a ridiculously high accuracy because it does a great job at predicting most people don't make 50,000. But when we look at the number of people that do make 50,000, the model didn't do such a great job of picking that up."
   ]
  },
  {
   "cell_type": "code",
   "execution_count": 82,
   "id": "e2e0ed73-0100-45ac-926f-63fb7a5bf5dc",
   "metadata": {},
   "outputs": [],
   "source": [
    "predictions = logReg.predict(X_test)"
   ]
  },
  {
   "cell_type": "code",
   "execution_count": 83,
   "id": "6a625db8-2261-42fb-955c-be8b4534e7ce",
   "metadata": {},
   "outputs": [],
   "source": [
    "cm = metrics.confusion_matrix(y_test, predictions)"
   ]
  },
  {
   "cell_type": "code",
   "execution_count": 84,
   "id": "ba021890-21ef-45bf-a8ff-4507785b06fd",
   "metadata": {},
   "outputs": [
    {
     "data": {
      "image/png": "[encoded data removed]",
      "text/plain": [
       "<Figure size 648x648 with 2 Axes>"
      ]
     },
     "metadata": {
      "needs_background": "light"
     },
     "output_type": "display_data"
    }
   ],
   "source": [
    "plt.figure(figsize=(9,9))\n",
    "sns.heatmap(cm, annot=True, fmt=\".3f\", linewidths=.5, square = True, cmap = 'Blues_r');\n",
    "plt.ylabel('Actual label');\n",
    "plt.xlabel('Predicted label');"
   ]
  },
  {
   "cell_type": "markdown",
   "id": "6105ad78-5e4b-432a-ad97-e169d69b6911",
   "metadata": {},
   "source": [
    "### Balancing Data with SMOTE"
   ]
  },
  {
   "cell_type": "markdown",
   "id": "1f3ae083-899d-4578-bc73-8b600f3764d8",
   "metadata": {},
   "source": [
    "A great technique for working with imbalanced data is SMOTE. This technique was created by Nitesh Chawla, from the University of Notre Dame (my alma mater) and it oversamples the minority class with synthetic data to balance the classes."
   ]
  },
  {
   "cell_type": "code",
   "execution_count": 99,
   "id": "b2dad2d9-901b-4084-b72e-c089e7c6338c",
   "metadata": {},
   "outputs": [],
   "source": [
    "from collections import Counter\n",
    "from imblearn.over_sampling import SMOTE "
   ]
  },
  {
   "cell_type": "code",
   "execution_count": 100,
   "id": "54543115-92f4-4da3-b680-81a6249ae759",
   "metadata": {},
   "outputs": [
    {
     "name": "stdout",
     "output_type": "stream",
     "text": [
      "Resampled dataset shape Counter({0.0: 187141, 1.0: 187141})\n"
     ]
    }
   ],
   "source": [
    "sm = SMOTE(random_state=42)\n",
    "X_train_balanced, y_train_balanced = sm.fit_resample(X_train, y_train)\n",
    "print('Resampled dataset shape %s' % Counter(y_train_balanced))"
   ]
  },
  {
   "cell_type": "code",
   "execution_count": 101,
   "id": "061c02b2-86e6-4b9d-985e-6f9258e9546f",
   "metadata": {},
   "outputs": [],
   "source": [
    "logReg_balanced = LogisticRegression(solver='liblinear',penalty='l2').fit(X_train_balanced, y_train_balanced)"
   ]
  },
  {
   "cell_type": "markdown",
   "id": "101e8f89-1a5a-42b3-b7e8-67a8b9418413",
   "metadata": {},
   "source": [
    "### Accuracy, AUC, ROC, and Confusion Matrix"
   ]
  },
  {
   "cell_type": "code",
   "execution_count": 102,
   "id": "1d33097a-2629-4b18-b742-33cda026a67c",
   "metadata": {},
   "outputs": [
    {
     "name": "stdout",
     "output_type": "stream",
     "text": [
      "Accuracy:  0.8369820172009382\n",
      "AUC:  0.9335613550328243\n"
     ]
    },
    {
     "data": {
      "text/plain": [
       "<sklearn.metrics._plot.roc_curve.RocCurveDisplay at 0x7f89f88f1e80>"
      ]
     },
     "execution_count": 102,
     "metadata": {},
     "output_type": "execute_result"
    },
    {
     "data": {
      "image/png": "[encoded data removed]",
      "text/plain": [
       "<Figure size 432x288 with 1 Axes>"
      ]
     },
     "metadata": {
      "needs_background": "light"
     },
     "output_type": "display_data"
    }
   ],
   "source": [
    "print('Accuracy: ', logReg_balanced.score(X_test, y_test))\n",
    "print('AUC: ' , metrics.roc_auc_score(y_test, logReg_balanced.predict_proba(X_test)[:, 1]))\n",
    "metrics.plot_roc_curve(logReg_balanced, X_test, y_test) "
   ]
  },
  {
   "cell_type": "code",
   "execution_count": 90,
   "id": "cd10d3a2-06c3-4180-bba9-e5144e514d37",
   "metadata": {},
   "outputs": [],
   "source": [
    "predictions = logReg_balanced.predict(X_test)"
   ]
  },
  {
   "cell_type": "code",
   "execution_count": 91,
   "id": "54e4a2b4-5d98-426d-8784-d15d0689fe46",
   "metadata": {},
   "outputs": [],
   "source": [
    "cm_balanced = metrics.confusion_matrix(y_test, predictions)"
   ]
  },
  {
   "cell_type": "code",
   "execution_count": 92,
   "id": "43ee8449-3ec9-47dc-82c0-db3427cf2fa7",
   "metadata": {},
   "outputs": [
    {
     "data": {
      "image/png": "[encoded data removed]",
      "text/plain": [
       "<Figure size 648x648 with 2 Axes>"
      ]
     },
     "metadata": {
      "needs_background": "light"
     },
     "output_type": "display_data"
    }
   ],
   "source": [
    "plt.figure(figsize=(9,9))\n",
    "sns.heatmap(cm_balanced, annot=True, fmt=\".3f\", linewidths=.5, square = True, cmap = 'Blues_r');\n",
    "plt.ylabel('Actual label');\n",
    "plt.xlabel('Predicted label');"
   ]
  },
  {
   "cell_type": "markdown",
   "id": "e415a319-3a34-42a9-80c0-aa217a3b5860",
   "metadata": {},
   "source": [
    "### Which model to pick?"
   ]
  },
  {
   "cell_type": "markdown",
   "id": "4976d905-d28a-47fd-a252-057f78d69a06",
   "metadata": {},
   "source": [
    "This is where a discussion with the client would come in handy! If it's more important for the client to correctly predict that someone makes 50,000, I would pick the second model because it does a much better job of predicting who actually makes 50,000 and above. However, if the client cares equally about predicting both those who make 50,000 and those that don't, I would go with the first model because it has a higher overall accuracy. For now, I will stick with the first model which had a higher accuracy."
   ]
  },
  {
   "cell_type": "markdown",
   "id": "19d1fbdb-1f8e-47bd-9073-563f453406c6",
   "metadata": {},
   "source": [
    "### What are the most predictive variables?"
   ]
  },
  {
   "cell_type": "code",
   "execution_count": 94,
   "id": "d2953eb0-5d60-4b3d-b3a5-21d161b7c6e9",
   "metadata": {},
   "outputs": [
    {
     "data": {
      "text/html": [
       "<div>\n",
       "<style scoped>\n",
       "    .dataframe tbody tr th:only-of-type {\n",
       "        vertical-align: middle;\n",
       "    }\n",
       "\n",
       "    .dataframe tbody tr th {\n",
       "        vertical-align: top;\n",
       "    }\n",
       "\n",
       "    .dataframe thead th {\n",
       "        text-align: right;\n",
       "    }\n",
       "</style>\n",
       "<table border=\"1\" class=\"dataframe\">\n",
       "  <thead>\n",
       "    <tr style=\"text-align: right;\">\n",
       "      <th></th>\n",
       "      <th>coef</th>\n",
       "    </tr>\n",
       "  </thead>\n",
       "  <tbody>\n",
       "    <tr>\n",
       "      <th>AHGA_ Prof school degree (MD DDS DVM LLB JD)</th>\n",
       "      <td>2.194286</td>\n",
       "    </tr>\n",
       "    <tr>\n",
       "      <th>AHGA_ Doctorate degree(PhD EdD)</th>\n",
       "      <td>2.100697</td>\n",
       "    </tr>\n",
       "    <tr>\n",
       "      <th>ACLSWKR_ Self-employed-incorporated</th>\n",
       "      <td>1.444214</td>\n",
       "    </tr>\n",
       "    <tr>\n",
       "      <th>AHGA_ Masters degree(MA MS MEng MEd MSW MBA)</th>\n",
       "      <td>1.381821</td>\n",
       "    </tr>\n",
       "    <tr>\n",
       "      <th>AMJOCC_ Executive admin and managerial</th>\n",
       "      <td>1.201763</td>\n",
       "    </tr>\n",
       "    <tr>\n",
       "      <th>AMJOCC_ Professional specialty</th>\n",
       "      <td>0.911077</td>\n",
       "    </tr>\n",
       "    <tr>\n",
       "      <th>AHGA_ Bachelors degree(BA AB BS)</th>\n",
       "      <td>0.875611</td>\n",
       "    </tr>\n",
       "    <tr>\n",
       "      <th>AMJIND_ Public administration</th>\n",
       "      <td>0.778865</td>\n",
       "    </tr>\n",
       "    <tr>\n",
       "      <th>ACLSWKR_ Self-employed-not incorporated</th>\n",
       "      <td>0.749511</td>\n",
       "    </tr>\n",
       "    <tr>\n",
       "      <th>ACLSWKR_ Not in universe</th>\n",
       "      <td>0.722131</td>\n",
       "    </tr>\n",
       "    <tr>\n",
       "      <th>AMJOCC_ Sales</th>\n",
       "      <td>0.720450</td>\n",
       "    </tr>\n",
       "    <tr>\n",
       "      <th>ACLSWKR_ Private</th>\n",
       "      <td>0.615311</td>\n",
       "    </tr>\n",
       "    <tr>\n",
       "      <th>AMJIND_ Communications</th>\n",
       "      <td>0.607676</td>\n",
       "    </tr>\n",
       "    <tr>\n",
       "      <th>ACLSWKR_ Federal government</th>\n",
       "      <td>0.587563</td>\n",
       "    </tr>\n",
       "    <tr>\n",
       "      <th>FILESTAT_ Joint both under 65</th>\n",
       "      <td>0.544750</td>\n",
       "    </tr>\n",
       "    <tr>\n",
       "      <th>AREORGN_ All other</th>\n",
       "      <td>0.467429</td>\n",
       "    </tr>\n",
       "    <tr>\n",
       "      <th>AHSCOL_ Not in universe</th>\n",
       "      <td>0.447130</td>\n",
       "    </tr>\n",
       "    <tr>\n",
       "      <th>AMJIND_ Finance insurance and real estate</th>\n",
       "      <td>0.410356</td>\n",
       "    </tr>\n",
       "    <tr>\n",
       "      <th>HHDREL_ Householder</th>\n",
       "      <td>0.266022</td>\n",
       "    </tr>\n",
       "    <tr>\n",
       "      <th>ARACE_ White</th>\n",
       "      <td>0.220513</td>\n",
       "    </tr>\n",
       "    <tr>\n",
       "      <th>AMJIND_ Wholesale trade</th>\n",
       "      <td>0.220029</td>\n",
       "    </tr>\n",
       "    <tr>\n",
       "      <th>AWKSTAT_ Not in labor force</th>\n",
       "      <td>0.195387</td>\n",
       "    </tr>\n",
       "    <tr>\n",
       "      <th>NOEMP</th>\n",
       "      <td>0.186975</td>\n",
       "    </tr>\n",
       "    <tr>\n",
       "      <th>AMJIND_ Other professional services</th>\n",
       "      <td>0.185974</td>\n",
       "    </tr>\n",
       "    <tr>\n",
       "      <th>AMJIND_ Manufacturing-durable goods</th>\n",
       "      <td>0.151788</td>\n",
       "    </tr>\n",
       "    <tr>\n",
       "      <th>AWKSTAT_ Full-time schedules</th>\n",
       "      <td>0.115521</td>\n",
       "    </tr>\n",
       "    <tr>\n",
       "      <th>WKSWORK</th>\n",
       "      <td>0.036546</td>\n",
       "    </tr>\n",
       "    <tr>\n",
       "      <th>AAGE</th>\n",
       "      <td>0.029704</td>\n",
       "    </tr>\n",
       "    <tr>\n",
       "      <th>CAPLOSS</th>\n",
       "      <td>0.000578</td>\n",
       "    </tr>\n",
       "    <tr>\n",
       "      <th>DIVVAL</th>\n",
       "      <td>0.000187</td>\n",
       "    </tr>\n",
       "    <tr>\n",
       "      <th>CAPGAIN</th>\n",
       "      <td>0.000101</td>\n",
       "    </tr>\n",
       "    <tr>\n",
       "      <th>AWKSTAT_ Children or Armed Forces</th>\n",
       "      <td>-0.010464</td>\n",
       "    </tr>\n",
       "    <tr>\n",
       "      <th>ADTIND</th>\n",
       "      <td>-0.011065</td>\n",
       "    </tr>\n",
       "    <tr>\n",
       "      <th>HHDFMX_ Householder</th>\n",
       "      <td>-0.121894</td>\n",
       "    </tr>\n",
       "    <tr>\n",
       "      <th>AHGA_ High school graduate</th>\n",
       "      <td>-0.228048</td>\n",
       "    </tr>\n",
       "    <tr>\n",
       "      <th>AUNMEM_ Not in universe</th>\n",
       "      <td>-0.250201</td>\n",
       "    </tr>\n",
       "    <tr>\n",
       "      <th>AUNMEM_ No</th>\n",
       "      <td>-0.310694</td>\n",
       "    </tr>\n",
       "    <tr>\n",
       "      <th>HHDFMX_ Child 18+ never marr Not in a subfamily</th>\n",
       "      <td>-0.314396</td>\n",
       "    </tr>\n",
       "    <tr>\n",
       "      <th>AMARITL_ Married-civilian spouse present</th>\n",
       "      <td>-0.326388</td>\n",
       "    </tr>\n",
       "    <tr>\n",
       "      <th>AMARITL_ Never married</th>\n",
       "      <td>-0.439111</td>\n",
       "    </tr>\n",
       "    <tr>\n",
       "      <th>HHDREL_ Child 18 or older</th>\n",
       "      <td>-0.650643</td>\n",
       "    </tr>\n",
       "    <tr>\n",
       "      <th>PARENT_ Mother only present</th>\n",
       "      <td>-0.896638</td>\n",
       "    </tr>\n",
       "    <tr>\n",
       "      <th>AMJOCC_ Other service</th>\n",
       "      <td>-0.918047</td>\n",
       "    </tr>\n",
       "    <tr>\n",
       "      <th>AHGA_ Children</th>\n",
       "      <td>-1.046579</td>\n",
       "    </tr>\n",
       "    <tr>\n",
       "      <th>ASEX_ Female</th>\n",
       "      <td>-1.165469</td>\n",
       "    </tr>\n",
       "    <tr>\n",
       "      <th>PARENT_ Both parents present</th>\n",
       "      <td>-1.467826</td>\n",
       "    </tr>\n",
       "    <tr>\n",
       "      <th>FILESTAT_ Nonfiler</th>\n",
       "      <td>-1.599294</td>\n",
       "    </tr>\n",
       "    <tr>\n",
       "      <th>HHDFMX_ Child &lt;18 never marr not in subfamily</th>\n",
       "      <td>-2.136550</td>\n",
       "    </tr>\n",
       "    <tr>\n",
       "      <th>PARENT_ Not in universe</th>\n",
       "      <td>-2.251664</td>\n",
       "    </tr>\n",
       "  </tbody>\n",
       "</table>\n",
       "</div>"
      ],
      "text/plain": [
       "                                                     coef\n",
       "AHGA_ Prof school degree (MD DDS DVM LLB JD)     2.194286\n",
       "AHGA_ Doctorate degree(PhD EdD)                  2.100697\n",
       "ACLSWKR_ Self-employed-incorporated              1.444214\n",
       "AHGA_ Masters degree(MA MS MEng MEd MSW MBA)     1.381821\n",
       "AMJOCC_ Executive admin and managerial           1.201763\n",
       "AMJOCC_ Professional specialty                   0.911077\n",
       "AHGA_ Bachelors degree(BA AB BS)                 0.875611\n",
       "AMJIND_ Public administration                    0.778865\n",
       "ACLSWKR_ Self-employed-not incorporated          0.749511\n",
       "ACLSWKR_ Not in universe                         0.722131\n",
       "AMJOCC_ Sales                                    0.720450\n",
       "ACLSWKR_ Private                                 0.615311\n",
       "AMJIND_ Communications                           0.607676\n",
       "ACLSWKR_ Federal government                      0.587563\n",
       "FILESTAT_ Joint both under 65                    0.544750\n",
       "AREORGN_ All other                               0.467429\n",
       "AHSCOL_ Not in universe                          0.447130\n",
       "AMJIND_ Finance insurance and real estate        0.410356\n",
       "HHDREL_ Householder                              0.266022\n",
       "ARACE_ White                                     0.220513\n",
       "AMJIND_ Wholesale trade                          0.220029\n",
       "AWKSTAT_ Not in labor force                      0.195387\n",
       "NOEMP                                            0.186975\n",
       "AMJIND_ Other professional services              0.185974\n",
       "AMJIND_ Manufacturing-durable goods              0.151788\n",
       "AWKSTAT_ Full-time schedules                     0.115521\n",
       "WKSWORK                                          0.036546\n",
       "AAGE                                             0.029704\n",
       "CAPLOSS                                          0.000578\n",
       "DIVVAL                                           0.000187\n",
       "CAPGAIN                                          0.000101\n",
       "AWKSTAT_ Children or Armed Forces               -0.010464\n",
       "ADTIND                                          -0.011065\n",
       "HHDFMX_ Householder                             -0.121894\n",
       "AHGA_ High school graduate                      -0.228048\n",
       "AUNMEM_ Not in universe                         -0.250201\n",
       "AUNMEM_ No                                      -0.310694\n",
       "HHDFMX_ Child 18+ never marr Not in a subfamily -0.314396\n",
       "AMARITL_ Married-civilian spouse present        -0.326388\n",
       "AMARITL_ Never married                          -0.439111\n",
       "HHDREL_ Child 18 or older                       -0.650643\n",
       "PARENT_ Mother only present                     -0.896638\n",
       "AMJOCC_ Other service                           -0.918047\n",
       "AHGA_ Children                                  -1.046579\n",
       "ASEX_ Female                                    -1.165469\n",
       "PARENT_ Both parents present                    -1.467826\n",
       "FILESTAT_ Nonfiler                              -1.599294\n",
       "HHDFMX_ Child <18 never marr not in subfamily   -2.136550\n",
       "PARENT_ Not in universe                         -2.251664"
      ]
     },
     "execution_count": 94,
     "metadata": {},
     "output_type": "execute_result"
    }
   ],
   "source": [
    "train_data_columns = []\n",
    "for column in train_data:\n",
    "    train_data_columns.append(column)\n",
    "del train_data_columns[-1]\n",
    "\n",
    "log_odds = logReg.coef_[0]\n",
    "pd.DataFrame(log_odds, \n",
    "             train_data_columns, \n",
    "             columns=['coef'])\\\n",
    "            .sort_values(by='coef', ascending=False)"
   ]
  },
  {
   "cell_type": "markdown",
   "id": "e3811d03-baf3-476b-98c0-57075658dc51",
   "metadata": {},
   "source": [
    "### Sanity Check"
   ]
  },
  {
   "cell_type": "markdown",
   "id": "5e23ad6a-1c7c-4796-9401-23595cab451f",
   "metadata": {},
   "source": [
    "According to the logistic regression model, education and highest schooling level are the strongest predictors of income, as well as whether someone is self-employed (i.e. a business owner). Those with advanced degrees, in particular, are more likely to make above 50,000. On the other hand, women, those who live with their parenets, those who do not have a tax filing status, and those who were under 18 were less likely to make 50,000 or above. Overall, I would say the model passes the sanity check, even if some of its conclusions can be a little depressing."
   ]
  },
  {
   "cell_type": "markdown",
   "id": "8048263d-fce2-4452-a256-116a203ecf94",
   "metadata": {},
   "source": [
    "## Random Forest Classifier"
   ]
  },
  {
   "cell_type": "code",
   "execution_count": 115,
   "id": "5608751a-2236-4146-8ac1-6954d02c3bae",
   "metadata": {},
   "outputs": [],
   "source": [
    "rfm = RandomForestClassifier(max_depth=16, random_state=0)"
   ]
  },
  {
   "cell_type": "code",
   "execution_count": 116,
   "id": "3200e15c-7b60-47ab-9c26-acd0054e3a03",
   "metadata": {},
   "outputs": [],
   "source": [
    "randomForest = rfm.fit(X_train, y_train)"
   ]
  },
  {
   "cell_type": "markdown",
   "id": "8282bf09-aa53-4b6d-a4c1-f36befadd567",
   "metadata": {},
   "source": [
    "### Accuracy"
   ]
  },
  {
   "cell_type": "code",
   "execution_count": 117,
   "id": "dcccc927-b18b-47d8-b20e-75908d68a567",
   "metadata": {},
   "outputs": [
    {
     "data": {
      "text/plain": [
       "0.9546620957879753"
      ]
     },
     "execution_count": 117,
     "metadata": {},
     "output_type": "execute_result"
    }
   ],
   "source": [
    "randomForest.score(X_test,y_test)"
   ]
  },
  {
   "cell_type": "markdown",
   "id": "d3933584-7fc7-4dbd-8224-d8f98f10d96b",
   "metadata": {},
   "source": [
    "### ROC Curve"
   ]
  },
  {
   "cell_type": "code",
   "execution_count": 124,
   "id": "72264417-8923-4f2f-82eb-d71754724e27",
   "metadata": {},
   "outputs": [
    {
     "data": {
      "text/plain": [
       "<sklearn.metrics._plot.roc_curve.RocCurveDisplay at 0x7f8a33d36f70>"
      ]
     },
     "execution_count": 124,
     "metadata": {},
     "output_type": "execute_result"
    },
    {
     "data": {
      "image/png": "[encoded data removed]",
      "text/plain": [
       "<Figure size 432x288 with 1 Axes>"
      ]
     },
     "metadata": {
      "needs_background": "light"
     },
     "output_type": "display_data"
    }
   ],
   "source": [
    "metrics.plot_roc_curve(randomForest, X_test, y_test) "
   ]
  },
  {
   "cell_type": "markdown",
   "id": "de5a2ddf-5149-48b5-96fc-7402fef92ca3",
   "metadata": {},
   "source": [
    "### AUC"
   ]
  },
  {
   "cell_type": "code",
   "execution_count": 125,
   "id": "4d7b5bb1-b848-4378-afdf-cb74acdac50c",
   "metadata": {},
   "outputs": [
    {
     "data": {
      "text/plain": [
       "0.9484081912868305"
      ]
     },
     "execution_count": 125,
     "metadata": {},
     "output_type": "execute_result"
    }
   ],
   "source": [
    "metrics.roc_auc_score(y_test, randomForest.predict_proba(X_test)[:, 1])"
   ]
  },
  {
   "cell_type": "markdown",
   "id": "8af7af17-4b85-4f92-ba7b-580c0b7f1209",
   "metadata": {},
   "source": [
    "### Confusion Matrix"
   ]
  },
  {
   "cell_type": "code",
   "execution_count": 126,
   "id": "10f38351-36fe-4baa-b539-3eff802ab924",
   "metadata": {},
   "outputs": [],
   "source": [
    "predictions = randomForest.predict(X_test)"
   ]
  },
  {
   "cell_type": "code",
   "execution_count": 128,
   "id": "d3c269fa-3708-4ca3-82f2-b9b71d138da9",
   "metadata": {},
   "outputs": [],
   "source": [
    "cm = metrics.confusion_matrix(y_test, predictions)"
   ]
  },
  {
   "cell_type": "code",
   "execution_count": 129,
   "id": "59b22c0d-4ab7-4340-a6a8-743fe7e7123a",
   "metadata": {},
   "outputs": [
    {
     "data": {
      "image/png": "[encoded data removed]",
      "text/plain": [
       "<Figure size 648x648 with 2 Axes>"
      ]
     },
     "metadata": {
      "needs_background": "light"
     },
     "output_type": "display_data"
    }
   ],
   "source": [
    "plt.figure(figsize=(9,9))\n",
    "sns.heatmap(cm, annot=True, fmt=\".3f\", linewidths=.5, square = True, cmap = 'Blues_r');\n",
    "plt.ylabel('Actual label');\n",
    "plt.xlabel('Predicted label');"
   ]
  },
  {
   "cell_type": "markdown",
   "id": "cc70166f-da7d-4c79-8688-530c90747bf5",
   "metadata": {},
   "source": [
    "### SMOTEing the Random Forest"
   ]
  },
  {
   "cell_type": "markdown",
   "id": "ba100694-44c9-496f-859a-000b692b432c",
   "metadata": {},
   "source": [
    "Just to be consistent, let's see what this would look like with SMOTE..."
   ]
  },
  {
   "cell_type": "code",
   "execution_count": null,
   "id": "3abe566d-9fb6-4154-a306-350b8e25758e",
   "metadata": {},
   "outputs": [],
   "source": [
    "sm = SMOTE(random_state=42)\n",
    "X_train_balanced, y_train_balanced = sm.fit_resample(X_train, y_train)\n",
    "print('Resampled dataset shape %s' % Counter(y_train_balanced))"
   ]
  },
  {
   "cell_type": "code",
   "execution_count": 137,
   "id": "f50595ae-011d-431c-aae0-2730ba26c785",
   "metadata": {},
   "outputs": [],
   "source": [
    "randomForest_balanced = rfm.fit(X_train_balanced, y_train_balanced)"
   ]
  },
  {
   "cell_type": "markdown",
   "id": "4fa1195e-811e-48b9-9909-628733b5645a",
   "metadata": {},
   "source": [
    "### Accuracy, AUC, ROC, and Confusion Matrix"
   ]
  },
  {
   "cell_type": "code",
   "execution_count": 139,
   "id": "86e8d4c1-166e-4d4d-8643-7fe2d43cc615",
   "metadata": {},
   "outputs": [
    {
     "name": "stdout",
     "output_type": "stream",
     "text": [
      "Accuracy:  0.9396162867624948\n",
      "AUC:  0.9386256525261008\n"
     ]
    },
    {
     "data": {
      "text/plain": [
       "<sklearn.metrics._plot.roc_curve.RocCurveDisplay at 0x7f89fb3c6040>"
      ]
     },
     "execution_count": 139,
     "metadata": {},
     "output_type": "execute_result"
    },
    {
     "data": {
      "image/png": "[encoded data removed]",
      "text/plain": [
       "<Figure size 432x288 with 1 Axes>"
      ]
     },
     "metadata": {
      "needs_background": "light"
     },
     "output_type": "display_data"
    }
   ],
   "source": [
    "print('Accuracy: ', randomForest_balanced.score(X_test, y_test))\n",
    "print('AUC: ' , metrics.roc_auc_score(y_test, randomForest_balanced.predict_proba(X_test)[:, 1]))\n",
    "metrics.plot_roc_curve(randomForest_balanced, X_test, y_test) "
   ]
  },
  {
   "cell_type": "code",
   "execution_count": 140,
   "id": "3bc8401a-6986-4716-b883-3c2ed7239931",
   "metadata": {},
   "outputs": [],
   "source": [
    "predictions = randomForest_balanced.predict(X_test)"
   ]
  },
  {
   "cell_type": "code",
   "execution_count": 141,
   "id": "e1edec3d-0a26-4af2-8961-ecc6ebbbe95f",
   "metadata": {},
   "outputs": [],
   "source": [
    "cm_balanced = metrics.confusion_matrix(y_test, predictions)"
   ]
  },
  {
   "cell_type": "code",
   "execution_count": 142,
   "id": "474fafa9-1caa-461a-a622-b4bf18c50027",
   "metadata": {},
   "outputs": [
    {
     "data": {
      "image/png": "[encoded data removed]",
      "text/plain": [
       "<Figure size 648x648 with 2 Axes>"
      ]
     },
     "metadata": {
      "needs_background": "light"
     },
     "output_type": "display_data"
    }
   ],
   "source": [
    "plt.figure(figsize=(9,9))\n",
    "sns.heatmap(cm_balanced, annot=True, fmt=\".3f\", linewidths=.5, square = True, cmap = 'Blues_r');\n",
    "plt.ylabel('Actual label');\n",
    "plt.xlabel('Predicted label');"
   ]
  },
  {
   "cell_type": "markdown",
   "id": "d8c61be7-40ec-407d-9dd3-26cb604ed7b7",
   "metadata": {},
   "source": [
    "Exactly the same pattern we've observed with the Logistic Regression. Let's stick with the version without SMOTE for now."
   ]
  },
  {
   "cell_type": "markdown",
   "id": "1a65cef3-89b9-4101-9504-d5e6d980116e",
   "metadata": {},
   "source": [
    "### What are the most predictive variables?"
   ]
  },
  {
   "cell_type": "code",
   "execution_count": 136,
   "id": "967c9ca2-80bb-4880-afbb-4ea5c2bfdfd0",
   "metadata": {},
   "outputs": [
    {
     "data": {
      "text/html": [
       "<div>\n",
       "<style scoped>\n",
       "    .dataframe tbody tr th:only-of-type {\n",
       "        vertical-align: middle;\n",
       "    }\n",
       "\n",
       "    .dataframe tbody tr th {\n",
       "        vertical-align: top;\n",
       "    }\n",
       "\n",
       "    .dataframe thead th {\n",
       "        text-align: right;\n",
       "    }\n",
       "</style>\n",
       "<table border=\"1\" class=\"dataframe\">\n",
       "  <thead>\n",
       "    <tr style=\"text-align: right;\">\n",
       "      <th></th>\n",
       "      <th>Variable</th>\n",
       "      <th>Importance</th>\n",
       "    </tr>\n",
       "  </thead>\n",
       "  <tbody>\n",
       "    <tr>\n",
       "      <th>44</th>\n",
       "      <td>CAPGAIN</td>\n",
       "      <td>0.147924</td>\n",
       "    </tr>\n",
       "    <tr>\n",
       "      <th>46</th>\n",
       "      <td>DIVVAL</td>\n",
       "      <td>0.132519</td>\n",
       "    </tr>\n",
       "    <tr>\n",
       "      <th>42</th>\n",
       "      <td>AAGE</td>\n",
       "      <td>0.071560</td>\n",
       "    </tr>\n",
       "    <tr>\n",
       "      <th>48</th>\n",
       "      <td>WKSWORK</td>\n",
       "      <td>0.059794</td>\n",
       "    </tr>\n",
       "    <tr>\n",
       "      <th>26</th>\n",
       "      <td>ASEX_ Female</td>\n",
       "      <td>0.054274</td>\n",
       "    </tr>\n",
       "    <tr>\n",
       "      <th>20</th>\n",
       "      <td>AMJOCC_ Executive admin and managerial</td>\n",
       "      <td>0.051553</td>\n",
       "    </tr>\n",
       "    <tr>\n",
       "      <th>43</th>\n",
       "      <td>ADTIND</td>\n",
       "      <td>0.051255</td>\n",
       "    </tr>\n",
       "    <tr>\n",
       "      <th>47</th>\n",
       "      <td>NOEMP</td>\n",
       "      <td>0.050038</td>\n",
       "    </tr>\n",
       "    <tr>\n",
       "      <th>45</th>\n",
       "      <td>CAPLOSS</td>\n",
       "      <td>0.038392</td>\n",
       "    </tr>\n",
       "    <tr>\n",
       "      <th>22</th>\n",
       "      <td>AMJOCC_ Professional specialty</td>\n",
       "      <td>0.036547</td>\n",
       "    </tr>\n",
       "    <tr>\n",
       "      <th>9</th>\n",
       "      <td>AHGA_ Masters degree(MA MS MEng MEd MSW MBA)</td>\n",
       "      <td>0.030417</td>\n",
       "    </tr>\n",
       "    <tr>\n",
       "      <th>10</th>\n",
       "      <td>AHGA_ Prof school degree (MD DDS DVM LLB JD)</td>\n",
       "      <td>0.028536</td>\n",
       "    </tr>\n",
       "    <tr>\n",
       "      <th>5</th>\n",
       "      <td>AHGA_ Bachelors degree(BA AB BS)</td>\n",
       "      <td>0.022871</td>\n",
       "    </tr>\n",
       "    <tr>\n",
       "      <th>38</th>\n",
       "      <td>HHDREL_ Householder</td>\n",
       "      <td>0.020303</td>\n",
       "    </tr>\n",
       "    <tr>\n",
       "      <th>36</th>\n",
       "      <td>HHDFMX_ Householder</td>\n",
       "      <td>0.020165</td>\n",
       "    </tr>\n",
       "    <tr>\n",
       "      <th>7</th>\n",
       "      <td>AHGA_ Doctorate degree(PhD EdD)</td>\n",
       "      <td>0.018665</td>\n",
       "    </tr>\n",
       "    <tr>\n",
       "      <th>32</th>\n",
       "      <td>FILESTAT_ Joint both under 65</td>\n",
       "      <td>0.015466</td>\n",
       "    </tr>\n",
       "    <tr>\n",
       "      <th>8</th>\n",
       "      <td>AHGA_ High school graduate</td>\n",
       "      <td>0.011832</td>\n",
       "    </tr>\n",
       "    <tr>\n",
       "      <th>12</th>\n",
       "      <td>AMARITL_ Married-civilian spouse present</td>\n",
       "      <td>0.011053</td>\n",
       "    </tr>\n",
       "    <tr>\n",
       "      <th>1</th>\n",
       "      <td>ACLSWKR_ Not in universe</td>\n",
       "      <td>0.009640</td>\n",
       "    </tr>\n",
       "    <tr>\n",
       "      <th>3</th>\n",
       "      <td>ACLSWKR_ Self-employed-incorporated</td>\n",
       "      <td>0.009164</td>\n",
       "    </tr>\n",
       "    <tr>\n",
       "      <th>30</th>\n",
       "      <td>AWKSTAT_ Full-time schedules</td>\n",
       "      <td>0.008368</td>\n",
       "    </tr>\n",
       "    <tr>\n",
       "      <th>29</th>\n",
       "      <td>AWKSTAT_ Children or Armed Forces</td>\n",
       "      <td>0.008349</td>\n",
       "    </tr>\n",
       "    <tr>\n",
       "      <th>13</th>\n",
       "      <td>AMARITL_ Never married</td>\n",
       "      <td>0.008082</td>\n",
       "    </tr>\n",
       "    <tr>\n",
       "      <th>2</th>\n",
       "      <td>ACLSWKR_ Private</td>\n",
       "      <td>0.007538</td>\n",
       "    </tr>\n",
       "    <tr>\n",
       "      <th>24</th>\n",
       "      <td>ARACE_ White</td>\n",
       "      <td>0.006887</td>\n",
       "    </tr>\n",
       "    <tr>\n",
       "      <th>23</th>\n",
       "      <td>AMJOCC_ Sales</td>\n",
       "      <td>0.006471</td>\n",
       "    </tr>\n",
       "    <tr>\n",
       "      <th>16</th>\n",
       "      <td>AMJIND_ Manufacturing-durable goods</td>\n",
       "      <td>0.005693</td>\n",
       "    </tr>\n",
       "    <tr>\n",
       "      <th>15</th>\n",
       "      <td>AMJIND_ Finance insurance and real estate</td>\n",
       "      <td>0.005646</td>\n",
       "    </tr>\n",
       "    <tr>\n",
       "      <th>25</th>\n",
       "      <td>AREORGN_ All other</td>\n",
       "      <td>0.005449</td>\n",
       "    </tr>\n",
       "    <tr>\n",
       "      <th>28</th>\n",
       "      <td>AUNMEM_ Not in universe</td>\n",
       "      <td>0.005382</td>\n",
       "    </tr>\n",
       "    <tr>\n",
       "      <th>4</th>\n",
       "      <td>ACLSWKR_ Self-employed-not incorporated</td>\n",
       "      <td>0.005268</td>\n",
       "    </tr>\n",
       "    <tr>\n",
       "      <th>33</th>\n",
       "      <td>FILESTAT_ Nonfiler</td>\n",
       "      <td>0.005074</td>\n",
       "    </tr>\n",
       "    <tr>\n",
       "      <th>27</th>\n",
       "      <td>AUNMEM_ No</td>\n",
       "      <td>0.004844</td>\n",
       "    </tr>\n",
       "    <tr>\n",
       "      <th>17</th>\n",
       "      <td>AMJIND_ Other professional services</td>\n",
       "      <td>0.004339</td>\n",
       "    </tr>\n",
       "    <tr>\n",
       "      <th>0</th>\n",
       "      <td>ACLSWKR_ Federal government</td>\n",
       "      <td>0.003641</td>\n",
       "    </tr>\n",
       "    <tr>\n",
       "      <th>21</th>\n",
       "      <td>AMJOCC_ Other service</td>\n",
       "      <td>0.002819</td>\n",
       "    </tr>\n",
       "    <tr>\n",
       "      <th>18</th>\n",
       "      <td>AMJIND_ Public administration</td>\n",
       "      <td>0.002690</td>\n",
       "    </tr>\n",
       "    <tr>\n",
       "      <th>19</th>\n",
       "      <td>AMJIND_ Wholesale trade</td>\n",
       "      <td>0.002438</td>\n",
       "    </tr>\n",
       "    <tr>\n",
       "      <th>31</th>\n",
       "      <td>AWKSTAT_ Not in labor force</td>\n",
       "      <td>0.002361</td>\n",
       "    </tr>\n",
       "    <tr>\n",
       "      <th>37</th>\n",
       "      <td>HHDREL_ Child 18 or older</td>\n",
       "      <td>0.001971</td>\n",
       "    </tr>\n",
       "    <tr>\n",
       "      <th>14</th>\n",
       "      <td>AMJIND_ Communications</td>\n",
       "      <td>0.001931</td>\n",
       "    </tr>\n",
       "    <tr>\n",
       "      <th>34</th>\n",
       "      <td>HHDFMX_ Child 18+ never marr Not in a subfamily</td>\n",
       "      <td>0.001449</td>\n",
       "    </tr>\n",
       "    <tr>\n",
       "      <th>11</th>\n",
       "      <td>AHSCOL_ Not in universe</td>\n",
       "      <td>0.000753</td>\n",
       "    </tr>\n",
       "    <tr>\n",
       "      <th>41</th>\n",
       "      <td>PARENT_ Not in universe</td>\n",
       "      <td>0.000378</td>\n",
       "    </tr>\n",
       "    <tr>\n",
       "      <th>35</th>\n",
       "      <td>HHDFMX_ Child &lt;18 never marr not in subfamily</td>\n",
       "      <td>0.000110</td>\n",
       "    </tr>\n",
       "    <tr>\n",
       "      <th>39</th>\n",
       "      <td>PARENT_ Both parents present</td>\n",
       "      <td>0.000075</td>\n",
       "    </tr>\n",
       "    <tr>\n",
       "      <th>6</th>\n",
       "      <td>AHGA_ Children</td>\n",
       "      <td>0.000021</td>\n",
       "    </tr>\n",
       "    <tr>\n",
       "      <th>40</th>\n",
       "      <td>PARENT_ Mother only present</td>\n",
       "      <td>0.000002</td>\n",
       "    </tr>\n",
       "  </tbody>\n",
       "</table>\n",
       "</div>"
      ],
      "text/plain": [
       "                                           Variable  Importance\n",
       "44                                          CAPGAIN    0.147924\n",
       "46                                           DIVVAL    0.132519\n",
       "42                                             AAGE    0.071560\n",
       "48                                          WKSWORK    0.059794\n",
       "26                                     ASEX_ Female    0.054274\n",
       "20           AMJOCC_ Executive admin and managerial    0.051553\n",
       "43                                           ADTIND    0.051255\n",
       "47                                            NOEMP    0.050038\n",
       "45                                          CAPLOSS    0.038392\n",
       "22                   AMJOCC_ Professional specialty    0.036547\n",
       "9      AHGA_ Masters degree(MA MS MEng MEd MSW MBA)    0.030417\n",
       "10     AHGA_ Prof school degree (MD DDS DVM LLB JD)    0.028536\n",
       "5                  AHGA_ Bachelors degree(BA AB BS)    0.022871\n",
       "38                              HHDREL_ Householder    0.020303\n",
       "36                              HHDFMX_ Householder    0.020165\n",
       "7                   AHGA_ Doctorate degree(PhD EdD)    0.018665\n",
       "32                    FILESTAT_ Joint both under 65    0.015466\n",
       "8                        AHGA_ High school graduate    0.011832\n",
       "12         AMARITL_ Married-civilian spouse present    0.011053\n",
       "1                          ACLSWKR_ Not in universe    0.009640\n",
       "3               ACLSWKR_ Self-employed-incorporated    0.009164\n",
       "30                     AWKSTAT_ Full-time schedules    0.008368\n",
       "29                AWKSTAT_ Children or Armed Forces    0.008349\n",
       "13                           AMARITL_ Never married    0.008082\n",
       "2                                  ACLSWKR_ Private    0.007538\n",
       "24                                     ARACE_ White    0.006887\n",
       "23                                    AMJOCC_ Sales    0.006471\n",
       "16              AMJIND_ Manufacturing-durable goods    0.005693\n",
       "15        AMJIND_ Finance insurance and real estate    0.005646\n",
       "25                               AREORGN_ All other    0.005449\n",
       "28                          AUNMEM_ Not in universe    0.005382\n",
       "4           ACLSWKR_ Self-employed-not incorporated    0.005268\n",
       "33                               FILESTAT_ Nonfiler    0.005074\n",
       "27                                       AUNMEM_ No    0.004844\n",
       "17              AMJIND_ Other professional services    0.004339\n",
       "0                       ACLSWKR_ Federal government    0.003641\n",
       "21                            AMJOCC_ Other service    0.002819\n",
       "18                    AMJIND_ Public administration    0.002690\n",
       "19                          AMJIND_ Wholesale trade    0.002438\n",
       "31                      AWKSTAT_ Not in labor force    0.002361\n",
       "37                        HHDREL_ Child 18 or older    0.001971\n",
       "14                           AMJIND_ Communications    0.001931\n",
       "34  HHDFMX_ Child 18+ never marr Not in a subfamily    0.001449\n",
       "11                          AHSCOL_ Not in universe    0.000753\n",
       "41                          PARENT_ Not in universe    0.000378\n",
       "35    HHDFMX_ Child <18 never marr not in subfamily    0.000110\n",
       "39                     PARENT_ Both parents present    0.000075\n",
       "6                                    AHGA_ Children    0.000021\n",
       "40                      PARENT_ Mother only present    0.000002"
      ]
     },
     "execution_count": 136,
     "metadata": {},
     "output_type": "execute_result"
    }
   ],
   "source": [
    "pd.DataFrame({'Variable':train_data_columns,\n",
    "              'Importance':randomForest.feature_importances_}).sort_values('Importance', ascending=False)"
   ]
  },
  {
   "cell_type": "markdown",
   "id": "3af2954d-4015-4572-a213-394f82766dc4",
   "metadata": {},
   "source": [
    "Interpreting a random forest is a little more difficult than a logistic regression. Rather than positive and negative coefficients, we can measure the amount of 'entropy' (information) given by each variable. There is some similiary between the 'top' factors in this model and the logistic regression, but it seems like for random forest models, variables such as 'Capital Gains', 'Age', and 'Dividends from stocks' play a greater role."
   ]
  },
  {
   "cell_type": "markdown",
   "id": "2ad7ff18-b4d7-45a2-b481-169b003347ee",
   "metadata": {},
   "source": [
    "## Which model is the best?"
   ]
  },
  {
   "cell_type": "code",
   "execution_count": 145,
   "id": "609b5b12-4e21-4041-9e47-f7d8a944d0f5",
   "metadata": {},
   "outputs": [
    {
     "name": "stdout",
     "output_type": "stream",
     "text": [
      "Random Forest Accuracy:  0.9396162867624948\n",
      "Random Forest AUC:  0.9386256525261008\n",
      "--------------------------\n",
      "Logistic Regression Accuracy:  0.9518854874601552\n",
      "Logistic Regression AUC:  0.9406543014143552\n"
     ]
    }
   ],
   "source": [
    "print('Random Forest Accuracy: ', randomForest.score(X_test,y_test))\n",
    "print('Random Forest AUC: ', metrics.roc_auc_score(y_test, randomForest.predict_proba(X_test)[:, 1]))\n",
    "print('--------------------------')\n",
    "print('Logistic Regression Accuracy: ',logReg.score(X_test,y_test))\n",
    "print('Logistic Regression AUC: ', metrics.roc_auc_score(y_test, logReg.predict_proba(X_test)[:, 1]))"
   ]
  },
  {
   "cell_type": "markdown",
   "id": "53d562e9-b926-4a84-9fcd-07bbb87d7cbb",
   "metadata": {},
   "source": [
    "The random forest model is the more accurate model and would be my pick."
   ]
  }
 ],
 "metadata": {
  "kernelspec": {
   "display_name": "Python 3 (ipykernel)",
   "language": "python",
   "name": "python3"
  },
  "language_info": {
   "codemirror_mode": {
    "name": "ipython",
    "version": 3
   },
   "file_extension": ".py",
   "mimetype": "text/x-python",
   "name": "python",
   "nbconvert_exporter": "python",
   "pygments_lexer": "ipython3",
   "version": "3.9.5"
  }
 },
 "nbformat": 4,
 "nbformat_minor": 5
}
