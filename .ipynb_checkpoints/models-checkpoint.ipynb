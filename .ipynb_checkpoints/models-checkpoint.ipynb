{
 "cells": [
  {
   "cell_type": "markdown",
   "id": "aebf0b25-5869-4851-9fb8-609d66789367",
   "metadata": {},
   "source": [
    "# Predicting Income with Census Data: Modeling"
   ]
  },
  {
   "cell_type": "markdown",
   "id": "332ae776-25dc-4ab1-b6a1-9fd44eef8037",
   "metadata": {},
   "source": [
    "Rafael G. Guerra | April 2022"
   ]
  },
  {
   "cell_type": "markdown",
   "id": "b28422b1-07a9-4b4c-ac9b-7f419b439e7b",
   "metadata": {},
   "source": [
    "We will be comparing the performance of two popular models for Machine learning: (1) logistic regression, and (2) random forests. We will be using Logistic Regressions, Grid Search, Normalization techniques, and SMOTE."
   ]
  },
  {
   "cell_type": "markdown",
   "id": "0802ccda-88e4-4569-a910-7d52656b6e0b",
   "metadata": {},
   "source": [
    "## Import Libraries"
   ]
  },
  {
   "cell_type": "code",
   "execution_count": 67,
   "id": "175960e7-a1d5-43f5-a2f1-d61a78ba7aea",
   "metadata": {},
   "outputs": [],
   "source": [
    "import warnings\n",
    "warnings.filterwarnings('ignore')"
   ]
  },
  {
   "cell_type": "code",
   "execution_count": 68,
   "id": "3562770a-b9b5-4e09-af52-7cac4f80bff0",
   "metadata": {},
   "outputs": [],
   "source": [
    "import pandas as pd\n",
    "import numpy as np"
   ]
  },
  {
   "cell_type": "code",
   "execution_count": 69,
   "id": "f46573df-c99f-4d59-83f3-57812c9146d4",
   "metadata": {},
   "outputs": [],
   "source": [
    "from sklearn.linear_model import LogisticRegression\n",
    "from sklearn.preprocessing import StandardScaler\n",
    "from scipy.stats import loguniform\n",
    "import matplotlib.pyplot as plt\n",
    "import seaborn as sns\n",
    "from sklearn import metrics"
   ]
  },
  {
   "cell_type": "markdown",
   "id": "083dacc3-bf13-4599-8fde-432a3fdf9c0d",
   "metadata": {},
   "source": [
    "## Import Data"
   ]
  },
  {
   "cell_type": "code",
   "execution_count": 70,
   "id": "685deb96-35e5-431d-9d25-ed2f2cc99290",
   "metadata": {},
   "outputs": [],
   "source": [
    "train_data = pd.read_csv('train_eda.csv')\n",
    "test_data = pd.read_csv('test_eda.csv')"
   ]
  },
  {
   "cell_type": "markdown",
   "id": "68267cd8-a10f-43df-8d3b-d14d3ae0f034",
   "metadata": {},
   "source": [
    "## Logistic Regression"
   ]
  },
  {
   "cell_type": "markdown",
   "id": "dc3f3b0c-6d28-49d7-9c83-a41263a7b54b",
   "metadata": {},
   "source": [
    "We will first try a simple classification algorithm -- logistic regression. We will split the data into the X component (all features) and the y compontent (the target variable, INCOME). We can then evaluate the model through its confusion matric and AUC (area under the curve)"
   ]
  },
  {
   "cell_type": "code",
   "execution_count": 73,
   "id": "44eb4a1c-4358-474d-a598-dc8514fcd796",
   "metadata": {},
   "outputs": [],
   "source": [
    "data_train = train_data.values\n",
    "data_test = test_data.values"
   ]
  },
  {
   "cell_type": "code",
   "execution_count": 74,
   "id": "8ccd183a-40e2-4544-9831-c32e865d23c0",
   "metadata": {},
   "outputs": [],
   "source": [
    "X_train, y_train = data_train[:, :-1], data_train[:, -1]\n",
    "X_test, y_test = data_test[:, :-1], data_test[:, -1]"
   ]
  },
  {
   "cell_type": "markdown",
   "id": "18b882ce-d764-421b-b742-0f1ac1cc0527",
   "metadata": {},
   "source": [
    "### Parameter Choices"
   ]
  },
  {
   "cell_type": "markdown",
   "id": "e060ef38-b2a8-4e83-b581-9c028e5f1c5c",
   "metadata": {},
   "source": [
    "Usually, I would run GridSearchCV and try several parameter combinations to maximize accuracy. However, given the size of the datasets, it is a computationally expensive operation for this exercise and instead I will only try different solvers and different penalties, since from experience, these are two of the biggest factors that may lead to different performances in a logistic regression"
   ]
  },
  {
   "cell_type": "code",
   "execution_count": 75,
   "id": "598339af-b15b-40c4-b0a5-854cfd3720e3",
   "metadata": {},
   "outputs": [
    {
     "name": "stdout",
     "output_type": "stream",
     "text": [
      "lbfgs 0.9444778573003749\n",
      "liblinear 0.9518854874601552\n",
      "sag 0.9422826326657445\n",
      "saga 0.9420921793869409\n"
     ]
    }
   ],
   "source": [
    "solvers = ['lbfgs','liblinear','sag','saga']\n",
    "for solver in solvers:\n",
    "    model = LogisticRegression(random_state=0,solver=solver).fit(X_train, y_train)\n",
    "    print(solver,model.score(X_test,y_test))"
   ]
  },
  {
   "cell_type": "code",
   "execution_count": 76,
   "id": "668e06d6-efe7-4a97-b2ae-1d1f931474dd",
   "metadata": {},
   "outputs": [
    {
     "name": "stdout",
     "output_type": "stream",
     "text": [
      "l1 0.9518453920330386\n",
      "l2 0.9518854874601552\n"
     ]
    }
   ],
   "source": [
    "penalties = ['l1', 'l2']\n",
    "for penalty in penalties:\n",
    "    model = LogisticRegression(solver='liblinear',penalty=penalty).fit(X_train, y_train)\n",
    "    print(penalty,model.score(X_test,y_test))"
   ]
  },
  {
   "cell_type": "code",
   "execution_count": 77,
   "id": "29d05852-5245-4324-a490-292e0a1bd63f",
   "metadata": {},
   "outputs": [],
   "source": [
    "logReg = LogisticRegression(solver='liblinear',penalty='l2').fit(X_train, y_train)"
   ]
  },
  {
   "cell_type": "markdown",
   "id": "02fbc8e5-396f-4f1f-bd63-2fcef5f23a70",
   "metadata": {},
   "source": [
    "### Accuracy"
   ]
  },
  {
   "cell_type": "markdown",
   "id": "3bd57e7f-e77c-4e5f-90ff-cc7c761513c8",
   "metadata": {},
   "source": [
    "Very good accuracy!"
   ]
  },
  {
   "cell_type": "code",
   "execution_count": 78,
   "id": "c0ef0abd-4bdd-4c45-a860-a7dc63f2fa9f",
   "metadata": {},
   "outputs": [
    {
     "data": {
      "text/plain": [
       "0.9518854874601552"
      ]
     },
     "execution_count": 78,
     "metadata": {},
     "output_type": "execute_result"
    }
   ],
   "source": [
    "logReg.score(X_test, y_test)"
   ]
  },
  {
   "cell_type": "markdown",
   "id": "ebe9d164-62e8-4cfb-8efb-0b81803f8cdf",
   "metadata": {},
   "source": [
    "### ROC Curve"
   ]
  },
  {
   "cell_type": "markdown",
   "id": "77d52d39-a81d-4584-914b-d8469c1a80a8",
   "metadata": {},
   "source": [
    "Very good ROC!"
   ]
  },
  {
   "cell_type": "code",
   "execution_count": 79,
   "id": "c1638abb-4447-4aed-95c1-802680897048",
   "metadata": {},
   "outputs": [
    {
     "data": {
      "text/plain": [
       "<sklearn.metrics._plot.roc_curve.RocCurveDisplay at 0x7f8a326c1fd0>"
      ]
     },
     "execution_count": 79,
     "metadata": {},
     "output_type": "execute_result"
    },
    {
     "data": {
      "image/png": "[encoded data removed]",
      "text/plain": [
       "<Figure size 432x288 with 1 Axes>"
      ]
     },
     "metadata": {
      "needs_background": "light"
     },
     "output_type": "display_data"
    }
   ],
   "source": [
    "metrics.plot_roc_curve(logReg, X_test, y_test) "
   ]
  },
  {
   "cell_type": "markdown",
   "id": "fca25d6a-a370-4712-820c-5b7667e74f55",
   "metadata": {},
   "source": [
    "### AUC (Area Under Curve)"
   ]
  },
  {
   "cell_type": "markdown",
   "id": "7336845a-0adf-487c-bd2d-6c2004ff5bc4",
   "metadata": {},
   "source": [
    "Very good AUC!"
   ]
  },
  {
   "cell_type": "code",
   "execution_count": 81,
   "id": "9cd238e2-9070-464e-93b7-3a9b879e66ee",
   "metadata": {},
   "outputs": [
    {
     "data": {
      "text/plain": [
       "0.9406543014143552"
      ]
     },
     "execution_count": 81,
     "metadata": {},
     "output_type": "execute_result"
    }
   ],
   "source": [
    "metrics.roc_auc_score(y_test, logReg.predict_proba(X_test)[:, 1])"
   ]
  },
  {
   "cell_type": "markdown",
   "id": "c191b15c-a095-4665-92af-6c12c669d4b9",
   "metadata": {},
   "source": [
    "### Confusion Matrix"
   ]
  },
  {
   "cell_type": "markdown",
   "id": "090392cc-4149-44a4-b74d-329190e90efe",
   "metadata": {},
   "source": [
    "A-ha! We have a serious problem with imbalanced data. The model has a ridiculously high accuracy because it does a great job at predicting most people don't make 50,000. But when we look at the number of people that do make 50,000, the model didn't do such a great job of picking that up."
   ]
  },
  {
   "cell_type": "code",
   "execution_count": 82,
   "id": "e2e0ed73-0100-45ac-926f-63fb7a5bf5dc",
   "metadata": {},
   "outputs": [],
   "source": [
    "predictions = logReg.predict(X_test)"
   ]
  },
  {
   "cell_type": "code",
   "execution_count": 83,
   "id": "6a625db8-2261-42fb-955c-be8b4534e7ce",
   "metadata": {},
   "outputs": [],
   "source": [
    "cm = metrics.confusion_matrix(y_test, predictions)"
   ]
  },
  {
   "cell_type": "code",
   "execution_count": 84,
   "id": "ba021890-21ef-45bf-a8ff-4507785b06fd",
   "metadata": {},
   "outputs": [
    {
     "data": {
      "image/png": "[encoded data removed]",
      "text/plain": [
       "<Figure size 648x648 with 2 Axes>"
      ]
     },
     "metadata": {
      "needs_background": "light"
     },
     "output_type": "display_data"
    }
   ],
   "source": [
    "plt.figure(figsize=(9,9))\n",
    "sns.heatmap(cm, annot=True, fmt=\".3f\", linewidths=.5, square = True, cmap = 'Blues_r');\n",
    "plt.ylabel('Actual label');\n",
    "plt.xlabel('Predicted label');"
   ]
  },
  {
   "cell_type": "markdown",
   "id": "6105ad78-5e4b-432a-ad97-e169d69b6911",
   "metadata": {},
   "source": [
    "### Balancing Data with SMOTE"
   ]
  },
  {
   "cell_type": "code",
   "execution_count": 85,
   "id": "b2dad2d9-901b-4084-b72e-c089e7c6338c",
   "metadata": {},
   "outputs": [],
   "source": [
    "from collections import Counter\n",
    "from sklearn.datasets import make_classification\n",
    "from imblearn.over_sampling import SMOTE "
   ]
  },
  {
   "cell_type": "code",
   "execution_count": 86,
   "id": "54543115-92f4-4da3-b680-81a6249ae759",
   "metadata": {},
   "outputs": [
    {
     "name": "stdout",
     "output_type": "stream",
     "text": [
      "Resampled dataset shape Counter({0.0: 187141, 1.0: 187141})\n"
     ]
    }
   ],
   "source": [
    "sm = SMOTE(random_state=42)\n",
    "X_train_balanced, y_train_balanced = sm.fit_resample(X_train, y_train)\n",
    "print('Resampled dataset shape %s' % Counter(y_train_balanced))"
   ]
  },
  {
   "cell_type": "code",
   "execution_count": 87,
   "id": "061c02b2-86e6-4b9d-985e-6f9258e9546f",
   "metadata": {},
   "outputs": [],
   "source": [
    "logReg_balanced = LogisticRegression(solver='liblinear',penalty='l2').fit(X_train_balanced, y_train_balanced)"
   ]
  },
  {
   "cell_type": "markdown",
   "id": "101e8f89-1a5a-42b3-b7e8-67a8b9418413",
   "metadata": {},
   "source": [
    "### Accuracy, AUC, ROC, and Confusion Matrix"
   ]
  },
  {
   "cell_type": "code",
   "execution_count": 89,
   "id": "1d33097a-2629-4b18-b742-33cda026a67c",
   "metadata": {},
   "outputs": [
    {
     "name": "stdout",
     "output_type": "stream",
     "text": [
      "Accuracy:  0.8369820172009382\n",
      "AUC:  0.9335613550328243\n"
     ]
    },
    {
     "data": {
      "text/plain": [
       "<sklearn.metrics._plot.roc_curve.RocCurveDisplay at 0x7f8a206b3d30>"
      ]
     },
     "execution_count": 89,
     "metadata": {},
     "output_type": "execute_result"
    },
    {
     "data": {
      "image/png": "[encoded data removed]",
      "text/plain": [
       "<Figure size 432x288 with 1 Axes>"
      ]
     },
     "metadata": {
      "needs_background": "light"
     },
     "output_type": "display_data"
    }
   ],
   "source": [
    "print('Accuracy: ', logReg_balanced.score(X_test, y_test))\n",
    "print('AUC: ' , metrics.roc_auc_score(y_test, logReg_balanced.predict_proba(X_test)[:, 1]))\n",
    "metrics.plot_roc_curve(logReg_balanced, X_test, y_test) "
   ]
  },
  {
   "cell_type": "code",
   "execution_count": 90,
   "id": "cd10d3a2-06c3-4180-bba9-e5144e514d37",
   "metadata": {},
   "outputs": [],
   "source": [
    "predictions = logReg_balanced.predict(X_test)"
   ]
  },
  {
   "cell_type": "code",
   "execution_count": 91,
   "id": "54e4a2b4-5d98-426d-8784-d15d0689fe46",
   "metadata": {},
   "outputs": [],
   "source": [
    "cm_balanced = metrics.confusion_matrix(y_test, predictions)"
   ]
  },
  {
   "cell_type": "code",
   "execution_count": 92,
   "id": "43ee8449-3ec9-47dc-82c0-db3427cf2fa7",
   "metadata": {},
   "outputs": [
    {
     "data": {
      "image/png": "[encoded data removed]",
      "text/plain": [
       "<Figure size 648x648 with 2 Axes>"
      ]
     },
     "metadata": {
      "needs_background": "light"
     },
     "output_type": "display_data"
    }
   ],
   "source": [
    "plt.figure(figsize=(9,9))\n",
    "sns.heatmap(cm_balanced, annot=True, fmt=\".3f\", linewidths=.5, square = True, cmap = 'Blues_r');\n",
    "plt.ylabel('Actual label');\n",
    "plt.xlabel('Predicted label');"
   ]
  },
  {
   "cell_type": "markdown",
   "id": "e415a319-3a34-42a9-80c0-aa217a3b5860",
   "metadata": {},
   "source": [
    "### Which model to pick?"
   ]
  },
  {
   "cell_type": "markdown",
   "id": "4976d905-d28a-47fd-a252-057f78d69a06",
   "metadata": {},
   "source": [
    "This is where a discussion with the client would come in handy! If it's more important for the client to correctly predict that someone makes 50,000, I would pick the second model because it does a much better job of predicting who actually makes 50,000 and above. However, if the client cares equally about predicting both those who make 50,000 and those that don't, I would go with the first model because it has a higher overall accuracy. For now, I will stick with the first model which had a higher accuracy."
   ]
  },
  {
   "cell_type": "markdown",
   "id": "19d1fbdb-1f8e-47bd-9073-563f453406c6",
   "metadata": {},
   "source": [
    "### What are the most predictive variables?"
   ]
  },
  {
   "cell_type": "code",
   "execution_count": 94,
   "id": "d2953eb0-5d60-4b3d-b3a5-21d161b7c6e9",
   "metadata": {},
   "outputs": [
    {
     "data": {
      "text/html": [
       "<div>\n",
       "<style scoped>\n",
       "    .dataframe tbody tr th:only-of-type {\n",
       "        vertical-align: middle;\n",
       "    }\n",
       "\n",
       "    .dataframe tbody tr th {\n",
       "        vertical-align: top;\n",
       "    }\n",
       "\n",
       "    .dataframe thead th {\n",
       "        text-align: right;\n",
       "    }\n",
       "</style>\n",
       "<table border=\"1\" class=\"dataframe\">\n",
       "  <thead>\n",
       "    <tr style=\"text-align: right;\">\n",
       "      <th></th>\n",
       "      <th>coef</th>\n",
       "    </tr>\n",
       "  </thead>\n",
       "  <tbody>\n",
       "    <tr>\n",
       "      <th>AHGA_ Prof school degree (MD DDS DVM LLB JD)</th>\n",
       "      <td>2.194286</td>\n",
       "    </tr>\n",
       "    <tr>\n",
       "      <th>AHGA_ Doctorate degree(PhD EdD)</th>\n",
       "      <td>2.100697</td>\n",
       "    </tr>\n",
       "    <tr>\n",
       "      <th>ACLSWKR_ Self-employed-incorporated</th>\n",
       "      <td>1.444214</td>\n",
       "    </tr>\n",
       "    <tr>\n",
       "      <th>AHGA_ Masters degree(MA MS MEng MEd MSW MBA)</th>\n",
       "      <td>1.381821</td>\n",
       "    </tr>\n",
       "    <tr>\n",
       "      <th>AMJOCC_ Executive admin and managerial</th>\n",
       "      <td>1.201763</td>\n",
       "    </tr>\n",
       "    <tr>\n",
       "      <th>AMJOCC_ Professional specialty</th>\n",
       "      <td>0.911077</td>\n",
       "    </tr>\n",
       "    <tr>\n",
       "      <th>AHGA_ Bachelors degree(BA AB BS)</th>\n",
       "      <td>0.875611</td>\n",
       "    </tr>\n",
       "    <tr>\n",
       "      <th>AMJIND_ Public administration</th>\n",
       "      <td>0.778865</td>\n",
       "    </tr>\n",
       "    <tr>\n",
       "      <th>ACLSWKR_ Self-employed-not incorporated</th>\n",
       "      <td>0.749511</td>\n",
       "    </tr>\n",
       "    <tr>\n",
       "      <th>ACLSWKR_ Not in universe</th>\n",
       "      <td>0.722131</td>\n",
       "    </tr>\n",
       "    <tr>\n",
       "      <th>AMJOCC_ Sales</th>\n",
       "      <td>0.720450</td>\n",
       "    </tr>\n",
       "    <tr>\n",
       "      <th>ACLSWKR_ Private</th>\n",
       "      <td>0.615311</td>\n",
       "    </tr>\n",
       "    <tr>\n",
       "      <th>AMJIND_ Communications</th>\n",
       "      <td>0.607676</td>\n",
       "    </tr>\n",
       "    <tr>\n",
       "      <th>ACLSWKR_ Federal government</th>\n",
       "      <td>0.587563</td>\n",
       "    </tr>\n",
       "    <tr>\n",
       "      <th>FILESTAT_ Joint both under 65</th>\n",
       "      <td>0.544750</td>\n",
       "    </tr>\n",
       "    <tr>\n",
       "      <th>AREORGN_ All other</th>\n",
       "      <td>0.467429</td>\n",
       "    </tr>\n",
       "    <tr>\n",
       "      <th>AHSCOL_ Not in universe</th>\n",
       "      <td>0.447130</td>\n",
       "    </tr>\n",
       "    <tr>\n",
       "      <th>AMJIND_ Finance insurance and real estate</th>\n",
       "      <td>0.410356</td>\n",
       "    </tr>\n",
       "    <tr>\n",
       "      <th>HHDREL_ Householder</th>\n",
       "      <td>0.266022</td>\n",
       "    </tr>\n",
       "    <tr>\n",
       "      <th>ARACE_ White</th>\n",
       "      <td>0.220513</td>\n",
       "    </tr>\n",
       "    <tr>\n",
       "      <th>AMJIND_ Wholesale trade</th>\n",
       "      <td>0.220029</td>\n",
       "    </tr>\n",
       "    <tr>\n",
       "      <th>AWKSTAT_ Not in labor force</th>\n",
       "      <td>0.195387</td>\n",
       "    </tr>\n",
       "    <tr>\n",
       "      <th>NOEMP</th>\n",
       "      <td>0.186975</td>\n",
       "    </tr>\n",
       "    <tr>\n",
       "      <th>AMJIND_ Other professional services</th>\n",
       "      <td>0.185974</td>\n",
       "    </tr>\n",
       "    <tr>\n",
       "      <th>AMJIND_ Manufacturing-durable goods</th>\n",
       "      <td>0.151788</td>\n",
       "    </tr>\n",
       "    <tr>\n",
       "      <th>AWKSTAT_ Full-time schedules</th>\n",
       "      <td>0.115521</td>\n",
       "    </tr>\n",
       "    <tr>\n",
       "      <th>WKSWORK</th>\n",
       "      <td>0.036546</td>\n",
       "    </tr>\n",
       "    <tr>\n",
       "      <th>AAGE</th>\n",
       "      <td>0.029704</td>\n",
       "    </tr>\n",
       "    <tr>\n",
       "      <th>CAPLOSS</th>\n",
       "      <td>0.000578</td>\n",
       "    </tr>\n",
       "    <tr>\n",
       "      <th>DIVVAL</th>\n",
       "      <td>0.000187</td>\n",
       "    </tr>\n",
       "    <tr>\n",
       "      <th>CAPGAIN</th>\n",
       "      <td>0.000101</td>\n",
       "    </tr>\n",
       "    <tr>\n",
       "      <th>AWKSTAT_ Children or Armed Forces</th>\n",
       "      <td>-0.010464</td>\n",
       "    </tr>\n",
       "    <tr>\n",
       "      <th>ADTIND</th>\n",
       "      <td>-0.011065</td>\n",
       "    </tr>\n",
       "    <tr>\n",
       "      <th>HHDFMX_ Householder</th>\n",
       "      <td>-0.121894</td>\n",
       "    </tr>\n",
       "    <tr>\n",
       "      <th>AHGA_ High school graduate</th>\n",
       "      <td>-0.228048</td>\n",
       "    </tr>\n",
       "    <tr>\n",
       "      <th>AUNMEM_ Not in universe</th>\n",
       "      <td>-0.250201</td>\n",
       "    </tr>\n",
       "    <tr>\n",
       "      <th>AUNMEM_ No</th>\n",
       "      <td>-0.310694</td>\n",
       "    </tr>\n",
       "    <tr>\n",
       "      <th>HHDFMX_ Child 18+ never marr Not in a subfamily</th>\n",
       "      <td>-0.314396</td>\n",
       "    </tr>\n",
       "    <tr>\n",
       "      <th>AMARITL_ Married-civilian spouse present</th>\n",
       "      <td>-0.326388</td>\n",
       "    </tr>\n",
       "    <tr>\n",
       "      <th>AMARITL_ Never married</th>\n",
       "      <td>-0.439111</td>\n",
       "    </tr>\n",
       "    <tr>\n",
       "      <th>HHDREL_ Child 18 or older</th>\n",
       "      <td>-0.650643</td>\n",
       "    </tr>\n",
       "    <tr>\n",
       "      <th>PARENT_ Mother only present</th>\n",
       "      <td>-0.896638</td>\n",
       "    </tr>\n",
       "    <tr>\n",
       "      <th>AMJOCC_ Other service</th>\n",
       "      <td>-0.918047</td>\n",
       "    </tr>\n",
       "    <tr>\n",
       "      <th>AHGA_ Children</th>\n",
       "      <td>-1.046579</td>\n",
       "    </tr>\n",
       "    <tr>\n",
       "      <th>ASEX_ Female</th>\n",
       "      <td>-1.165469</td>\n",
       "    </tr>\n",
       "    <tr>\n",
       "      <th>PARENT_ Both parents present</th>\n",
       "      <td>-1.467826</td>\n",
       "    </tr>\n",
       "    <tr>\n",
       "      <th>FILESTAT_ Nonfiler</th>\n",
       "      <td>-1.599294</td>\n",
       "    </tr>\n",
       "    <tr>\n",
       "      <th>HHDFMX_ Child &lt;18 never marr not in subfamily</th>\n",
       "      <td>-2.136550</td>\n",
       "    </tr>\n",
       "    <tr>\n",
       "      <th>PARENT_ Not in universe</th>\n",
       "      <td>-2.251664</td>\n",
       "    </tr>\n",
       "  </tbody>\n",
       "</table>\n",
       "</div>"
      ],
      "text/plain": [
       "                                                     coef\n",
       "AHGA_ Prof school degree (MD DDS DVM LLB JD)     2.194286\n",
       "AHGA_ Doctorate degree(PhD EdD)                  2.100697\n",
       "ACLSWKR_ Self-employed-incorporated              1.444214\n",
       "AHGA_ Masters degree(MA MS MEng MEd MSW MBA)     1.381821\n",
       "AMJOCC_ Executive admin and managerial           1.201763\n",
       "AMJOCC_ Professional specialty                   0.911077\n",
       "AHGA_ Bachelors degree(BA AB BS)                 0.875611\n",
       "AMJIND_ Public administration                    0.778865\n",
       "ACLSWKR_ Self-employed-not incorporated          0.749511\n",
       "ACLSWKR_ Not in universe                         0.722131\n",
       "AMJOCC_ Sales                                    0.720450\n",
       "ACLSWKR_ Private                                 0.615311\n",
       "AMJIND_ Communications                           0.607676\n",
       "ACLSWKR_ Federal government                      0.587563\n",
       "FILESTAT_ Joint both under 65                    0.544750\n",
       "AREORGN_ All other                               0.467429\n",
       "AHSCOL_ Not in universe                          0.447130\n",
       "AMJIND_ Finance insurance and real estate        0.410356\n",
       "HHDREL_ Householder                              0.266022\n",
       "ARACE_ White                                     0.220513\n",
       "AMJIND_ Wholesale trade                          0.220029\n",
       "AWKSTAT_ Not in labor force                      0.195387\n",
       "NOEMP                                            0.186975\n",
       "AMJIND_ Other professional services              0.185974\n",
       "AMJIND_ Manufacturing-durable goods              0.151788\n",
       "AWKSTAT_ Full-time schedules                     0.115521\n",
       "WKSWORK                                          0.036546\n",
       "AAGE                                             0.029704\n",
       "CAPLOSS                                          0.000578\n",
       "DIVVAL                                           0.000187\n",
       "CAPGAIN                                          0.000101\n",
       "AWKSTAT_ Children or Armed Forces               -0.010464\n",
       "ADTIND                                          -0.011065\n",
       "HHDFMX_ Householder                             -0.121894\n",
       "AHGA_ High school graduate                      -0.228048\n",
       "AUNMEM_ Not in universe                         -0.250201\n",
       "AUNMEM_ No                                      -0.310694\n",
       "HHDFMX_ Child 18+ never marr Not in a subfamily -0.314396\n",
       "AMARITL_ Married-civilian spouse present        -0.326388\n",
       "AMARITL_ Never married                          -0.439111\n",
       "HHDREL_ Child 18 or older                       -0.650643\n",
       "PARENT_ Mother only present                     -0.896638\n",
       "AMJOCC_ Other service                           -0.918047\n",
       "AHGA_ Children                                  -1.046579\n",
       "ASEX_ Female                                    -1.165469\n",
       "PARENT_ Both parents present                    -1.467826\n",
       "FILESTAT_ Nonfiler                              -1.599294\n",
       "HHDFMX_ Child <18 never marr not in subfamily   -2.136550\n",
       "PARENT_ Not in universe                         -2.251664"
      ]
     },
     "execution_count": 94,
     "metadata": {},
     "output_type": "execute_result"
    }
   ],
   "source": [
    "train_data_columns = []\n",
    "for column in train_data:\n",
    "    train_data_columns.append(column)\n",
    "del train_data_columns[-1]\n",
    "\n",
    "log_odds = logReg.coef_[0]\n",
    "pd.DataFrame(log_odds, \n",
    "             train_data_columns, \n",
    "             columns=['coef'])\\\n",
    "            .sort_values(by='coef', ascending=False)"
   ]
  },
  {
   "cell_type": "markdown",
   "id": "e3811d03-baf3-476b-98c0-57075658dc51",
   "metadata": {},
   "source": [
    "### Sanity Check"
   ]
  },
  {
   "cell_type": "markdown",
   "id": "5e23ad6a-1c7c-4796-9401-23595cab451f",
   "metadata": {},
   "source": [
    "According to the logistic regression model, education and highest schooling level are the strongest predictors of income. Those with MD, JDs, and phDs, in particular are more likely to make above 50,000. On the other hand, women, those who live with their parenets, those who do not have a tax filing status, and those who were under 18 were less likely to make 50,000 or above. Overall, I would say the model passes the sanity check, even if some of its conclusions can be a little depressing."
   ]
  },
  {
   "cell_type": "code",
   "execution_count": null,
   "id": "b50d2344-0786-403a-ba2e-6bf59a078536",
   "metadata": {},
   "outputs": [],
   "source": []
  }
 ],
 "metadata": {
  "kernelspec": {
   "display_name": "Python 3 (ipykernel)",
   "language": "python",
   "name": "python3"
  },
  "language_info": {
   "codemirror_mode": {
    "name": "ipython",
    "version": 3
   },
   "file_extension": ".py",
   "mimetype": "text/x-python",
   "name": "python",
   "nbconvert_exporter": "python",
   "pygments_lexer": "ipython3",
   "version": "3.9.5"
  }
 },
 "nbformat": 4,
 "nbformat_minor": 5
}
