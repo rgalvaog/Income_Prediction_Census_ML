{
 "cells": [
  {
   "cell_type": "markdown",
   "id": "aebf0b25-5869-4851-9fb8-609d66789367",
   "metadata": {},
   "source": [
    "# Predicting Income with Census Data: Modeling"
   ]
  },
  {
   "cell_type": "markdown",
   "id": "332ae776-25dc-4ab1-b6a1-9fd44eef8037",
   "metadata": {},
   "source": [
    "Rafael G. Guerra | April 2022"
   ]
  },
  {
   "cell_type": "markdown",
   "id": "b28422b1-07a9-4b4c-ac9b-7f419b439e7b",
   "metadata": {},
   "source": [
    "We will be comparing the performance of two popular models for Machine learning: (1) logistic regression, and (2) random forests. We will be using Logistic Regressions, Grid Search, Normalization techniques, and SMOTE."
   ]
  },
  {
   "cell_type": "markdown",
   "id": "0802ccda-88e4-4569-a910-7d52656b6e0b",
   "metadata": {},
   "source": [
    "## Import Libraries"
   ]
  },
  {
   "cell_type": "code",
   "execution_count": 88,
   "id": "175960e7-a1d5-43f5-a2f1-d61a78ba7aea",
   "metadata": {},
   "outputs": [],
   "source": [
    "import warnings\n",
    "warnings.filterwarnings('ignore')"
   ]
  },
  {
   "cell_type": "code",
   "execution_count": 1,
   "id": "3562770a-b9b5-4e09-af52-7cac4f80bff0",
   "metadata": {},
   "outputs": [],
   "source": [
    "import pandas as pd\n",
    "import numpy as np"
   ]
  },
  {
   "cell_type": "code",
   "execution_count": 109,
   "id": "f46573df-c99f-4d59-83f3-57812c9146d4",
   "metadata": {},
   "outputs": [],
   "source": [
    "from sklearn.linear_model import LogisticRegression\n",
    "from sklearn.preprocessing import StandardScaler\n",
    "from scipy.stats import loguniform\n",
    "import matplotlib.pyplot as plt\n",
    "import seaborn as sns\n",
    "from sklearn import metrics"
   ]
  },
  {
   "cell_type": "markdown",
   "id": "083dacc3-bf13-4599-8fde-432a3fdf9c0d",
   "metadata": {},
   "source": [
    "## Import Data"
   ]
  },
  {
   "cell_type": "code",
   "execution_count": 9,
   "id": "685deb96-35e5-431d-9d25-ed2f2cc99290",
   "metadata": {},
   "outputs": [],
   "source": [
    "train_data = pd.read_csv('/Users/rgalvaog/Desktop/Dataiku Technical Interview/train_clean.csv')\n",
    "test_data = pd.read_csv('/Users/rgalvaog/Desktop/Dataiku Technical Interview/test_clean.csv')"
   ]
  },
  {
   "cell_type": "markdown",
   "id": "e2c20100-e73c-4d1d-b235-9805c53191c5",
   "metadata": {},
   "source": [
    "## Fixing 'extra column' issue"
   ]
  },
  {
   "cell_type": "markdown",
   "id": "2fb2abe2-84b5-4595-9413-98cfb49367b1",
   "metadata": {},
   "source": [
    "It turns out there is one extra column in the training set data. This is because during the One Hot Encoding, there was one class not included in the test set. We can examine which is the extra feature and remove it."
   ]
  },
  {
   "cell_type": "code",
   "execution_count": 48,
   "id": "216704bb-5da4-4e09-84bb-75140cd8f3a8",
   "metadata": {},
   "outputs": [
    {
     "data": {
      "text/plain": [
       "(199523, 373)"
      ]
     },
     "execution_count": 48,
     "metadata": {},
     "output_type": "execute_result"
    }
   ],
   "source": [
    "np.shape(train_data)"
   ]
  },
  {
   "cell_type": "code",
   "execution_count": 49,
   "id": "aa2eed59-8ed1-4ee5-93a5-01c8899f9f6b",
   "metadata": {},
   "outputs": [
    {
     "data": {
      "text/plain": [
       "(99762, 372)"
      ]
     },
     "execution_count": 49,
     "metadata": {},
     "output_type": "execute_result"
    }
   ],
   "source": [
    "np.shape(test_data)"
   ]
  },
  {
   "cell_type": "code",
   "execution_count": 50,
   "id": "27137bf5-5427-43c8-96de-b950370e6d78",
   "metadata": {},
   "outputs": [],
   "source": [
    "train_colnames = []\n",
    "test_colnames = []\n",
    "for feature in train_data:\n",
    "    train_colnames.append(feature)\n",
    "\n",
    "for feature in test_data:\n",
    "    test_colnames.append(feature)"
   ]
  },
  {
   "cell_type": "code",
   "execution_count": 52,
   "id": "df50fdae-dda1-4145-b5a4-7d389c0b6d31",
   "metadata": {},
   "outputs": [
    {
     "data": {
      "text/plain": [
       "['HHDFMX_ Grandchild <18 ever marr not in subfamily']"
      ]
     },
     "execution_count": 52,
     "metadata": {},
     "output_type": "execute_result"
    }
   ],
   "source": [
    "list(set(train_colnames) - set(test_colnames))"
   ]
  },
  {
   "cell_type": "code",
   "execution_count": 56,
   "id": "ef569027-d784-4ae8-95c4-2702fb671147",
   "metadata": {},
   "outputs": [
    {
     "name": "stderr",
     "output_type": "stream",
     "text": [
      "/var/folders/nq/4k6rr2_j5jsfvzvf4q_8kdfh0000gn/T/ipykernel_30387/3498087141.py:1: FutureWarning: In a future version of pandas all arguments of DataFrame.drop except for the argument 'labels' will be keyword-only\n",
      "  train_data = train_data.drop('HHDFMX_ Grandchild <18 ever marr not in subfamily',1)\n"
     ]
    }
   ],
   "source": [
    "train_data = train_data.drop('HHDFMX_ Grandchild <18 ever marr not in subfamily',1)"
   ]
  },
  {
   "cell_type": "markdown",
   "id": "68267cd8-a10f-43df-8d3b-d14d3ae0f034",
   "metadata": {},
   "source": [
    "## Logistic Regression"
   ]
  },
  {
   "cell_type": "markdown",
   "id": "dc3f3b0c-6d28-49d7-9c83-a41263a7b54b",
   "metadata": {},
   "source": [
    "We will first try a simple classification algorithm -- logistic regression. We will split the data into the X component (all features) and the y compontent (the target variable, INCOME). We can then evaluate the model through its confusion matric and AUC (area under the curve)"
   ]
  },
  {
   "cell_type": "code",
   "execution_count": 59,
   "id": "44eb4a1c-4358-474d-a598-dc8514fcd796",
   "metadata": {},
   "outputs": [],
   "source": [
    "data_train = train_data.values\n",
    "data_test = test_data.values"
   ]
  },
  {
   "cell_type": "code",
   "execution_count": 60,
   "id": "8ccd183a-40e2-4544-9831-c32e865d23c0",
   "metadata": {},
   "outputs": [],
   "source": [
    "X_train, y_train = data_train[:, :-1], data_train[:, -1]\n",
    "X_test, y_test = data_test[:, :-1], data_test[:, -1]"
   ]
  },
  {
   "cell_type": "markdown",
   "id": "18b882ce-d764-421b-b742-0f1ac1cc0527",
   "metadata": {},
   "source": [
    "### Parameter Choices"
   ]
  },
  {
   "cell_type": "markdown",
   "id": "e060ef38-b2a8-4e83-b581-9c028e5f1c5c",
   "metadata": {},
   "source": [
    "Usually, I would run GridSearchCV and try several parameter combinations to maximize accuracy. However, given the size of the datasets, it is a computationally expensive operation for this exercise and instead I will only try different solvers and different penalties, since from experience, these are two of the biggest factors that may lead to different performances in a logistic regression"
   ]
  },
  {
   "cell_type": "code",
   "execution_count": 99,
   "id": "598339af-b15b-40c4-b0a5-854cfd3720e3",
   "metadata": {},
   "outputs": [
    {
     "name": "stdout",
     "output_type": "stream",
     "text": [
      "lbfgs 0.9457208155409875\n",
      "liblinear 0.9527475391431607\n",
      "sag 0.9431045889216335\n",
      "saga 0.9423127042360818\n"
     ]
    }
   ],
   "source": [
    "solvers = ['lbfgs','liblinear','sag','saga']\n",
    "for solver in solvers:\n",
    "    model = LogisticRegression(random_state=0,solver=solver).fit(X_train, y_train)\n",
    "    print(solver,model.score(X_test,y_test))"
   ]
  },
  {
   "cell_type": "code",
   "execution_count": 104,
   "id": "668e06d6-efe7-4a97-b2ae-1d1f931474dd",
   "metadata": {},
   "outputs": [
    {
     "name": "stdout",
     "output_type": "stream",
     "text": [
      "l1 0.9528177061406147\n",
      "l2 0.9527475391431607\n"
     ]
    }
   ],
   "source": [
    "penalties = ['l1', 'l2']\n",
    "for penalty in penalties:\n",
    "    model = LogisticRegression(solver='liblinear',penalty=penalty).fit(X_train, y_train)\n",
    "    print(penalty,model.score(X_test,y_test))"
   ]
  },
  {
   "cell_type": "code",
   "execution_count": 105,
   "id": "29d05852-5245-4324-a490-292e0a1bd63f",
   "metadata": {},
   "outputs": [],
   "source": [
    "logReg = LogisticRegression(solver='liblinear',penalty='l1').fit(X_train, y_train)"
   ]
  },
  {
   "cell_type": "markdown",
   "id": "02fbc8e5-396f-4f1f-bd63-2fcef5f23a70",
   "metadata": {},
   "source": [
    "### Accuracy"
   ]
  },
  {
   "cell_type": "markdown",
   "id": "3bd57e7f-e77c-4e5f-90ff-cc7c761513c8",
   "metadata": {},
   "source": [
    "Very good accuracy!"
   ]
  },
  {
   "cell_type": "code",
   "execution_count": 106,
   "id": "c0ef0abd-4bdd-4c45-a860-a7dc63f2fa9f",
   "metadata": {},
   "outputs": [
    {
     "data": {
      "text/plain": [
       "0.9527976584270564"
      ]
     },
     "execution_count": 106,
     "metadata": {},
     "output_type": "execute_result"
    }
   ],
   "source": [
    "logReg.score(X_test, y_test)"
   ]
  },
  {
   "cell_type": "markdown",
   "id": "ebe9d164-62e8-4cfb-8efb-0b81803f8cdf",
   "metadata": {},
   "source": [
    "### ROC Curve"
   ]
  },
  {
   "cell_type": "markdown",
   "id": "77d52d39-a81d-4584-914b-d8469c1a80a8",
   "metadata": {},
   "source": [
    "Very good ROC!"
   ]
  },
  {
   "cell_type": "code",
   "execution_count": 107,
   "id": "c1638abb-4447-4aed-95c1-802680897048",
   "metadata": {},
   "outputs": [
    {
     "data": {
      "text/plain": [
       "<sklearn.metrics._plot.roc_curve.RocCurveDisplay at 0x7fd6898206d0>"
      ]
     },
     "execution_count": 107,
     "metadata": {},
     "output_type": "execute_result"
    },
    {
     "data": {
      "image/png": "[encoded data removed]",
      "text/plain": [
       "<Figure size 432x288 with 1 Axes>"
      ]
     },
     "metadata": {
      "needs_background": "light"
     },
     "output_type": "display_data"
    }
   ],
   "source": [
    "metrics.plot_roc_curve(logReg, X_test, y_test) "
   ]
  },
  {
   "cell_type": "markdown",
   "id": "fca25d6a-a370-4712-820c-5b7667e74f55",
   "metadata": {},
   "source": [
    "### AUC (Area Under Curve)"
   ]
  },
  {
   "cell_type": "markdown",
   "id": "7336845a-0adf-487c-bd2d-6c2004ff5bc4",
   "metadata": {},
   "source": [
    "Very good AUC!"
   ]
  },
  {
   "cell_type": "code",
   "execution_count": 108,
   "id": "9cd238e2-9070-464e-93b7-3a9b879e66ee",
   "metadata": {},
   "outputs": [
    {
     "data": {
      "text/plain": [
       "0.944593969079313"
      ]
     },
     "execution_count": 108,
     "metadata": {},
     "output_type": "execute_result"
    }
   ],
   "source": [
    "roc_auc_score(y_test, logReg.predict_proba(X_test)[:, 1])"
   ]
  },
  {
   "cell_type": "markdown",
   "id": "c191b15c-a095-4665-92af-6c12c669d4b9",
   "metadata": {},
   "source": [
    "### Confusion Matrix"
   ]
  },
  {
   "cell_type": "markdown",
   "id": "090392cc-4149-44a4-b74d-329190e90efe",
   "metadata": {},
   "source": [
    "A-ha! We have a serious problem with imbalanced data. The model has a ridiculously high accuracy because it does a great job at predicting most people don't make 50,000. But when we look at the number of people that do make 50,000, the model didn't do such a great job of picking that up."
   ]
  },
  {
   "cell_type": "code",
   "execution_count": 113,
   "id": "e2e0ed73-0100-45ac-926f-63fb7a5bf5dc",
   "metadata": {},
   "outputs": [],
   "source": [
    "predictions = logReg.predict(X_test)"
   ]
  },
  {
   "cell_type": "code",
   "execution_count": 114,
   "id": "6a625db8-2261-42fb-955c-be8b4534e7ce",
   "metadata": {},
   "outputs": [],
   "source": [
    "cm = metrics.confusion_matrix(y_test, predictions)"
   ]
  },
  {
   "cell_type": "code",
   "execution_count": 115,
   "id": "ba021890-21ef-45bf-a8ff-4507785b06fd",
   "metadata": {},
   "outputs": [
    {
     "data": {
      "image/png": "[encoded data removed]",
      "text/plain": [
       "<Figure size 648x648 with 2 Axes>"
      ]
     },
     "metadata": {
      "needs_background": "light"
     },
     "output_type": "display_data"
    }
   ],
   "source": [
    "plt.figure(figsize=(9,9))\n",
    "sns.heatmap(cm, annot=True, fmt=\".3f\", linewidths=.5, square = True, cmap = 'Blues_r');\n",
    "plt.ylabel('Actual label');\n",
    "plt.xlabel('Predicted label');"
   ]
  },
  {
   "cell_type": "markdown",
   "id": "6105ad78-5e4b-432a-ad97-e169d69b6911",
   "metadata": {},
   "source": [
    "### Balancing Data with SMOTE"
   ]
  },
  {
   "cell_type": "code",
   "execution_count": 117,
   "id": "1053afdf-e3a2-4a9d-a77c-feb2c788d787",
   "metadata": {},
   "outputs": [
    {
     "name": "stdout",
     "output_type": "stream",
     "text": [
      "Collecting imblearn\n",
      "  Downloading imblearn-0.0-py2.py3-none-any.whl (1.9 kB)\n",
      "Collecting imbalanced-learn\n",
      "  Downloading imbalanced_learn-0.9.0-py3-none-any.whl (199 kB)\n",
      "\u001b[K     |████████████████████████████████| 199 kB 5.9 MB/s eta 0:00:01\n",
      "\u001b[?25hRequirement already satisfied: numpy>=1.14.6 in /Users/rgalvaog/ENTER/lib/python3.9/site-packages (from imbalanced-learn->imblearn) (1.22.1)\n",
      "Requirement already satisfied: scikit-learn>=1.0.1 in /Users/rgalvaog/ENTER/lib/python3.9/site-packages (from imbalanced-learn->imblearn) (1.0.2)\n",
      "Requirement already satisfied: joblib>=0.11 in /Users/rgalvaog/ENTER/lib/python3.9/site-packages (from imbalanced-learn->imblearn) (1.1.0)\n",
      "Requirement already satisfied: threadpoolctl>=2.0.0 in /Users/rgalvaog/ENTER/lib/python3.9/site-packages (from imbalanced-learn->imblearn) (3.1.0)\n",
      "Requirement already satisfied: scipy>=1.1.0 in /Users/rgalvaog/ENTER/lib/python3.9/site-packages (from imbalanced-learn->imblearn) (1.7.3)\n",
      "Installing collected packages: imbalanced-learn, imblearn\n",
      "Successfully installed imbalanced-learn-0.9.0 imblearn-0.0\n"
     ]
    }
   ],
   "source": [
    "!pip3 install imblearn"
   ]
  },
  {
   "cell_type": "code",
   "execution_count": 118,
   "id": "b2dad2d9-901b-4084-b72e-c089e7c6338c",
   "metadata": {},
   "outputs": [],
   "source": [
    "from collections import Counter\n",
    "from sklearn.datasets import make_classification\n",
    "from imblearn.over_sampling import SMOTE "
   ]
  },
  {
   "cell_type": "code",
   "execution_count": 121,
   "id": "54543115-92f4-4da3-b680-81a6249ae759",
   "metadata": {},
   "outputs": [
    {
     "name": "stdout",
     "output_type": "stream",
     "text": [
      "Resampled dataset shape Counter({0.0: 187141, 1.0: 187141})\n"
     ]
    }
   ],
   "source": [
    "sm = SMOTE(random_state=42)\n",
    "X_train_balanced, y_train_balanced = sm.fit_resample(X_train, y_train)\n",
    "print('Resampled dataset shape %s' % Counter(y_train_balanced))"
   ]
  },
  {
   "cell_type": "code",
   "execution_count": 122,
   "id": "061c02b2-86e6-4b9d-985e-6f9258e9546f",
   "metadata": {},
   "outputs": [],
   "source": [
    "logReg_balanced = LogisticRegression(solver='liblinear',penalty='l1').fit(X_train_balanced, y_train_balanced)"
   ]
  },
  {
   "cell_type": "markdown",
   "id": "101e8f89-1a5a-42b3-b7e8-67a8b9418413",
   "metadata": {},
   "source": [
    "### Accuracy, AUC, ROC, and Confusion Matrix"
   ]
  },
  {
   "cell_type": "code",
   "execution_count": 132,
   "id": "1d33097a-2629-4b18-b742-33cda026a67c",
   "metadata": {},
   "outputs": [
    {
     "name": "stdout",
     "output_type": "stream",
     "text": [
      "Accuracy:  0.8637657625147852\n",
      "AUC:  0.944143128655298\n"
     ]
    },
    {
     "data": {
      "text/plain": [
       "<sklearn.metrics._plot.roc_curve.RocCurveDisplay at 0x7fd68ad3df10>"
      ]
     },
     "execution_count": 132,
     "metadata": {},
     "output_type": "execute_result"
    },
    {
     "data": {
      "image/png": "[encoded data removed]",
      "text/plain": [
       "<Figure size 432x288 with 1 Axes>"
      ]
     },
     "metadata": {
      "needs_background": "light"
     },
     "output_type": "display_data"
    }
   ],
   "source": [
    "print('Accuracy: ', logReg_balanced.score(X_test, y_test))\n",
    "print('AUC: ' , roc_auc_score(y_test, logReg_balanced.predict_proba(X_test)[:, 1]))\n",
    "metrics.plot_roc_curve(logReg_balanced, X_test, y_test) "
   ]
  },
  {
   "cell_type": "code",
   "execution_count": 127,
   "id": "cd10d3a2-06c3-4180-bba9-e5144e514d37",
   "metadata": {},
   "outputs": [],
   "source": [
    "predictions = logReg_balanced.predict(X_test)"
   ]
  },
  {
   "cell_type": "code",
   "execution_count": 128,
   "id": "54e4a2b4-5d98-426d-8784-d15d0689fe46",
   "metadata": {},
   "outputs": [],
   "source": [
    "cm_balanced = metrics.confusion_matrix(y_test, predictions)"
   ]
  },
  {
   "cell_type": "code",
   "execution_count": 130,
   "id": "43ee8449-3ec9-47dc-82c0-db3427cf2fa7",
   "metadata": {},
   "outputs": [
    {
     "data": {
      "image/png": "[encoded data removed]",
      "text/plain": [
       "<Figure size 648x648 with 2 Axes>"
      ]
     },
     "metadata": {
      "needs_background": "light"
     },
     "output_type": "display_data"
    }
   ],
   "source": [
    "plt.figure(figsize=(9,9))\n",
    "sns.heatmap(cm_balanced, annot=True, fmt=\".3f\", linewidths=.5, square = True, cmap = 'Blues_r');\n",
    "plt.ylabel('Actual label');\n",
    "plt.xlabel('Predicted label');"
   ]
  },
  {
   "cell_type": "markdown",
   "id": "4976d905-d28a-47fd-a252-057f78d69a06",
   "metadata": {},
   "source": [
    "Discussion: even though the overall accuracy is smaller, I would pick the second model because it does a much better job at predicting likelihood of someone making above 50,000. But this is something we would talk to the client and understand what their preference is!"
   ]
  },
  {
   "cell_type": "markdown",
   "id": "19d1fbdb-1f8e-47bd-9073-563f453406c6",
   "metadata": {},
   "source": [
    "### What are the most predictive variables?"
   ]
  },
  {
   "cell_type": "code",
   "execution_count": 151,
   "id": "d2953eb0-5d60-4b3d-b3a5-21d161b7c6e9",
   "metadata": {},
   "outputs": [
    {
     "data": {
      "text/html": [
       "<div>\n",
       "<style scoped>\n",
       "    .dataframe tbody tr th:only-of-type {\n",
       "        vertical-align: middle;\n",
       "    }\n",
       "\n",
       "    .dataframe tbody tr th {\n",
       "        vertical-align: top;\n",
       "    }\n",
       "\n",
       "    .dataframe thead th {\n",
       "        text-align: right;\n",
       "    }\n",
       "</style>\n",
       "<table border=\"1\" class=\"dataframe\">\n",
       "  <thead>\n",
       "    <tr style=\"text-align: right;\">\n",
       "      <th></th>\n",
       "      <th>coef</th>\n",
       "    </tr>\n",
       "  </thead>\n",
       "  <tbody>\n",
       "    <tr>\n",
       "      <th>PENATVTY_ Guatemala</th>\n",
       "      <td>3.001455</td>\n",
       "    </tr>\n",
       "    <tr>\n",
       "      <th>AHGA_ Doctorate degree(PhD EdD)</th>\n",
       "      <td>2.730021</td>\n",
       "    </tr>\n",
       "    <tr>\n",
       "      <th>AHGA_ Prof school degree (MD DDS DVM LLB JD)</th>\n",
       "      <td>2.493298</td>\n",
       "    </tr>\n",
       "    <tr>\n",
       "      <th>ACLSWKR_ Never worked</th>\n",
       "      <td>2.256083</td>\n",
       "    </tr>\n",
       "    <tr>\n",
       "      <th>PENATVTY_ Scotland</th>\n",
       "      <td>2.064705</td>\n",
       "    </tr>\n",
       "    <tr>\n",
       "      <th>...</th>\n",
       "      <td>...</td>\n",
       "    </tr>\n",
       "    <tr>\n",
       "      <th>AHGA_ Less than 1st grade</th>\n",
       "      <td>-2.094175</td>\n",
       "    </tr>\n",
       "    <tr>\n",
       "      <th>HHDFMX_ In group quarters</th>\n",
       "      <td>-2.374312</td>\n",
       "    </tr>\n",
       "    <tr>\n",
       "      <th>PENATVTY_ Nicaragua</th>\n",
       "      <td>-2.611601</td>\n",
       "    </tr>\n",
       "    <tr>\n",
       "      <th>AHGA_ Children</th>\n",
       "      <td>-3.138336</td>\n",
       "    </tr>\n",
       "    <tr>\n",
       "      <th>PEFNTVTY_ Guatemala</th>\n",
       "      <td>-3.316834</td>\n",
       "    </tr>\n",
       "  </tbody>\n",
       "</table>\n",
       "<p>371 rows × 1 columns</p>\n",
       "</div>"
      ],
      "text/plain": [
       "                                                  coef\n",
       "PENATVTY_ Guatemala                           3.001455\n",
       "AHGA_ Doctorate degree(PhD EdD)               2.730021\n",
       "AHGA_ Prof school degree (MD DDS DVM LLB JD)  2.493298\n",
       "ACLSWKR_ Never worked                         2.256083\n",
       "PENATVTY_ Scotland                            2.064705\n",
       "...                                                ...\n",
       "AHGA_ Less than 1st grade                    -2.094175\n",
       "HHDFMX_ In group quarters                    -2.374312\n",
       "PENATVTY_ Nicaragua                          -2.611601\n",
       "AHGA_ Children                               -3.138336\n",
       "PEFNTVTY_ Guatemala                          -3.316834\n",
       "\n",
       "[371 rows x 1 columns]"
      ]
     },
     "execution_count": 151,
     "metadata": {},
     "output_type": "execute_result"
    }
   ],
   "source": [
    "train_data_columns = []\n",
    "for column in train_data:\n",
    "    train_data_columns.append(column)\n",
    "del train_data_columns[-1]\n",
    "\n",
    "log_odds = logReg_balanced.coef_[0]\n",
    "pd.DataFrame(log_odds, \n",
    "             train_data_columns, \n",
    "             columns=['coef'])\\\n",
    "            .sort_values(by='coef', ascending=False)"
   ]
  },
  {
   "cell_type": "markdown",
   "id": "5e23ad6a-1c7c-4796-9401-23595cab451f",
   "metadata": {},
   "source": [
    "According to the logistic regression model, the five strongest predictors that you will make more than 50,000 a year is whether you were born in Guatemala, whether you have a phD or EdD, whether you have a MD, DDS, DVM, LLB, or JD, whether you have never worked or whether you are from Scotland. The only variable that strikes me as odd in this is the 'never worked' one. The factors that more strongly predict you will make less than 50,000 are whether your highest education level is less than 1st grad, whether you were born in Nicaragua, whether your father was born in Guatamela, and whether your 'family stat' variable was set to 'in group quarters' or your education level was coded as 'children'. It is harder to interpret what the latter two variables mean."
   ]
  },
  {
   "cell_type": "code",
   "execution_count": null,
   "id": "b50d2344-0786-403a-ba2e-6bf59a078536",
   "metadata": {},
   "outputs": [],
   "source": []
  }
 ],
 "metadata": {
  "kernelspec": {
   "display_name": "Python 3 (ipykernel)",
   "language": "python",
   "name": "python3"
  },
  "language_info": {
   "codemirror_mode": {
    "name": "ipython",
    "version": 3
   },
   "file_extension": ".py",
   "mimetype": "text/x-python",
   "name": "python",
   "nbconvert_exporter": "python",
   "pygments_lexer": "ipython3",
   "version": "3.9.5"
  }
 },
 "nbformat": 4,
 "nbformat_minor": 5
}
