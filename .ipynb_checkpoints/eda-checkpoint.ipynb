{
 "cells": [
  {
   "cell_type": "markdown",
   "id": "4936be1e-b7f9-4c86-8425-1e151af8a13e",
   "metadata": {},
   "source": [
    "# Predicting Income With Census Data: Cleaning Data"
   ]
  },
  {
   "cell_type": "markdown",
   "id": "013bf793-9684-4d8d-9f52-0c4cdd648801",
   "metadata": {},
   "source": [
    "Rafael G. Guerra | April 2022"
   ]
  },
  {
   "cell_type": "markdown",
   "id": "234a2884-9fbf-4856-b23e-120cad90b21a",
   "metadata": {},
   "source": [
    "### Import libraries"
   ]
  },
  {
   "cell_type": "code",
   "execution_count": 10,
   "id": "c190b016-3f3c-49f0-8713-f2654eff33f4",
   "metadata": {},
   "outputs": [],
   "source": [
    "import pandas as pd\n",
    "import numpy as np\n",
    "import warnings\n",
    "warnings.filterwarnings('ignore')"
   ]
  },
  {
   "cell_type": "markdown",
   "id": "47a2f54a-4aae-42b0-bdf3-e7723312a570",
   "metadata": {},
   "source": [
    "### Import Data"
   ]
  },
  {
   "cell_type": "code",
   "execution_count": 5,
   "id": "055ae1ad-4149-439e-9fbc-84fb08726f2a",
   "metadata": {},
   "outputs": [],
   "source": [
    "train_data = pd.read_csv('/Users/rgalvaog/Desktop/Dataiku Technical Interview/train_clean.csv')"
   ]
  },
  {
   "cell_type": "code",
   "execution_count": null,
   "id": "dba01fc4-0072-48fc-8f8c-00832a136f5d",
   "metadata": {},
   "outputs": [],
   "source": [
    "cor_matrix = train_data.corr().abs()\n",
    "upper_tri = cor_matrix.where(np.triu(np.ones(cor_matrix.shape),k=1).astype(np.bool))\n",
    "print(upper_tri)"
   ]
  },
  {
   "cell_type": "code",
   "execution_count": 11,
   "id": "55f0ca77-98b1-41b2-a7d5-8229e92e30ba",
   "metadata": {},
   "outputs": [
    {
     "name": "stdout",
     "output_type": "stream",
     "text": [
      "['AMJIND_ Not in universe or children', 'AMJOCC_ Armed Forces', 'AMJOCC_ Not in universe', 'AMJOCC_ Private household services', 'ASEX_ Male', 'AUNMEM_ Not in universe', 'AUNTYPE_ New entrant', 'GRINST_ Not in universe', 'HHDREL_ Child 18 or older', 'HHDREL_ Child under 18 never married', 'HHDREL_ Spouse of householder', 'MIGSAME_ No', 'PARENT_ Not in universe', 'PEMNTVTY_ Haiti', 'PEMNTVTY_ India', 'PEMNTVTY_ Laos', 'PRCITSHP_ Native- Born in Puerto Rico or U S Outlying', 'PRCITSHP_ Native- Born in the United States', 'VETYN', 'YEAR']\n"
     ]
    }
   ],
   "source": [
    "to_drop = [column for column in upper_tri.columns if any(upper_tri[column] > 0.90)]\n",
    "print(to_drop)"
   ]
  },
  {
   "cell_type": "code",
   "execution_count": 12,
   "id": "bfc4ac75-fae5-43c0-a83b-4a7a5f17ef85",
   "metadata": {},
   "outputs": [
    {
     "name": "stdout",
     "output_type": "stream",
     "text": [
      "20\n"
     ]
    }
   ],
   "source": [
    "print(len(to_drop))"
   ]
  },
  {
   "cell_type": "code",
   "execution_count": 29,
   "id": "b5ab92ee-6a57-484a-b606-c20ed793780e",
   "metadata": {},
   "outputs": [],
   "source": [
    "feature_list = []\n",
    "correlation = []\n",
    "for feature in train_data:\n",
    "    income_corr = np.corrcoef(train_data['INCOME'], train_data[feature])\n",
    "    income_corr = income_corr[0,1]\n",
    "    if (income_corr > 0.1 or income_corr < -0.1):\n",
    "        feature_list.append(feature)\n",
    "        correlation.append(income_corr)"
   ]
  },
  {
   "cell_type": "code",
   "execution_count": 30,
   "id": "8bca1c2c-7c4c-461d-be3e-d59393634ddb",
   "metadata": {},
   "outputs": [
    {
     "data": {
      "text/plain": [
       "['ACLSWKR_ Not in universe',\n",
       " 'ACLSWKR_ Private',\n",
       " 'ACLSWKR_ Self-employed-incorporated',\n",
       " 'AHGA_ Bachelors degree(BA AB BS)',\n",
       " 'AHGA_ Children',\n",
       " 'AHGA_ Doctorate degree(PhD EdD)',\n",
       " 'AHGA_ Masters degree(MA MS MEng MEd MSW MBA)',\n",
       " 'AHGA_ Prof school degree (MD DDS DVM LLB JD)',\n",
       " 'AMARITL_ Married-civilian spouse present',\n",
       " 'AMARITL_ Never married',\n",
       " 'AMJIND_ Not in universe or children',\n",
       " 'AMJIND_ Other professional services',\n",
       " 'AMJOCC_ Executive admin and managerial',\n",
       " 'AMJOCC_ Not in universe',\n",
       " 'AMJOCC_ Professional specialty',\n",
       " 'ASEX_ Female',\n",
       " 'ASEX_ Male',\n",
       " 'AWKSTAT_ Full-time schedules',\n",
       " 'FILESTAT_ Joint both under 65',\n",
       " 'FILESTAT_ Nonfiler',\n",
       " 'HHDFMX_ Child <18 never marr not in subfamily',\n",
       " 'HHDFMX_ Householder',\n",
       " 'HHDREL_ Child under 18 never married',\n",
       " 'HHDREL_ Householder',\n",
       " 'PARENT_ Both parents present',\n",
       " 'PARENT_ Not in universe',\n",
       " 'AAGE',\n",
       " 'ADTIND',\n",
       " 'CAPGAIN',\n",
       " 'CAPLOSS',\n",
       " 'DIVVAL',\n",
       " 'NOEMP',\n",
       " 'VETYN',\n",
       " 'WKSWORK',\n",
       " 'INCOME']"
      ]
     },
     "execution_count": 30,
     "metadata": {},
     "output_type": "execute_result"
    }
   ],
   "source": [
    "feature_list"
   ]
  },
  {
   "cell_type": "code",
   "execution_count": null,
   "id": "0d2db024-7cee-446b-8ef9-9c3cf0818bf9",
   "metadata": {},
   "outputs": [],
   "source": []
  }
 ],
 "metadata": {
  "kernelspec": {
   "display_name": "Python 3 (ipykernel)",
   "language": "python",
   "name": "python3"
  },
  "language_info": {
   "codemirror_mode": {
    "name": "ipython",
    "version": 3
   },
   "file_extension": ".py",
   "mimetype": "text/x-python",
   "name": "python",
   "nbconvert_exporter": "python",
   "pygments_lexer": "ipython3",
   "version": "3.9.5"
  }
 },
 "nbformat": 4,
 "nbformat_minor": 5
}
