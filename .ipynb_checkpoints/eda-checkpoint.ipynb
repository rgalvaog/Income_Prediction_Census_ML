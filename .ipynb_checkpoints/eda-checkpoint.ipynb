{
 "cells": [
  {
   "cell_type": "markdown",
   "id": "4936be1e-b7f9-4c86-8425-1e151af8a13e",
   "metadata": {},
   "source": [
    "# Predicting Income With Census Data: Exploratory Data Analysis"
   ]
  },
  {
   "cell_type": "markdown",
   "id": "013bf793-9684-4d8d-9f52-0c4cdd648801",
   "metadata": {},
   "source": [
    "Rafael G. Guerra | April 2022"
   ]
  },
  {
   "cell_type": "markdown",
   "id": "2359f265-d795-479b-9339-8443b720fac8",
   "metadata": {},
   "source": [
    "Due to the large number of features, I will not be visualizing them in this analysis. Rather, I will focus my time on removing features that will not be likely to be relevant for the analysis. I will do so by examining correlations between every variable and the target variable 'income' as well as covariances within the variables themselves."
   ]
  },
  {
   "cell_type": "markdown",
   "id": "234a2884-9fbf-4856-b23e-120cad90b21a",
   "metadata": {},
   "source": [
    "### Import libraries"
   ]
  },
  {
   "cell_type": "code",
   "execution_count": 10,
   "id": "c190b016-3f3c-49f0-8713-f2654eff33f4",
   "metadata": {},
   "outputs": [],
   "source": [
    "import pandas as pd\n",
    "import numpy as np\n",
    "import warnings\n",
    "warnings.filterwarnings('ignore')"
   ]
  },
  {
   "cell_type": "markdown",
   "id": "47a2f54a-4aae-42b0-bdf3-e7723312a570",
   "metadata": {},
   "source": [
    "### Import Data"
   ]
  },
  {
   "cell_type": "code",
   "execution_count": 41,
   "id": "055ae1ad-4149-439e-9fbc-84fb08726f2a",
   "metadata": {},
   "outputs": [],
   "source": [
    "train_data = pd.read_csv('train_clean.csv')\n",
    "test_data = pd.read_csv('test_clean.csv')"
   ]
  },
  {
   "cell_type": "markdown",
   "id": "5c864cdb-c5e9-4209-a9ae-3ef82f6334b4",
   "metadata": {},
   "source": [
    "### Remove variables with no correlation to income"
   ]
  },
  {
   "cell_type": "markdown",
   "id": "07eb2393-ec2c-4a3a-8646-b84495330af0",
   "metadata": {},
   "source": [
    "We will only keep features that are at least minimally correlated with income. Astonishingly, we drop the number of features from 372 all the way to 55."
   ]
  },
  {
   "cell_type": "code",
   "execution_count": 38,
   "id": "b5ab92ee-6a57-484a-b606-c20ed793780e",
   "metadata": {},
   "outputs": [],
   "source": [
    "feature_list = []\n",
    "for feature in train_data:\n",
    "    income_corr = np.corrcoef(train_data['INCOME'], train_data[feature])\n",
    "    income_corr = income_corr[0,1]\n",
    "    if (income_corr > 0.05 or income_corr < -0.05):\n",
    "        feature_list.append(feature)"
   ]
  },
  {
   "cell_type": "code",
   "execution_count": 39,
   "id": "8bca1c2c-7c4c-461d-be3e-d59393634ddb",
   "metadata": {},
   "outputs": [
    {
     "data": {
      "text/plain": [
       "['ACLSWKR_ Federal government',\n",
       " 'ACLSWKR_ Not in universe',\n",
       " 'ACLSWKR_ Private',\n",
       " 'ACLSWKR_ Self-employed-incorporated',\n",
       " 'ACLSWKR_ Self-employed-not incorporated',\n",
       " 'AHGA_ Bachelors degree(BA AB BS)',\n",
       " 'AHGA_ Children',\n",
       " 'AHGA_ Doctorate degree(PhD EdD)',\n",
       " 'AHGA_ High school graduate',\n",
       " 'AHGA_ Masters degree(MA MS MEng MEd MSW MBA)',\n",
       " 'AHGA_ Prof school degree (MD DDS DVM LLB JD)',\n",
       " 'AHSCOL_ Not in universe',\n",
       " 'AMARITL_ Married-civilian spouse present',\n",
       " 'AMARITL_ Never married',\n",
       " 'AMJIND_ Communications',\n",
       " 'AMJIND_ Finance insurance and real estate',\n",
       " 'AMJIND_ Manufacturing-durable goods',\n",
       " 'AMJIND_ Not in universe or children',\n",
       " 'AMJIND_ Other professional services',\n",
       " 'AMJIND_ Public administration',\n",
       " 'AMJIND_ Wholesale trade',\n",
       " 'AMJOCC_ Executive admin and managerial',\n",
       " 'AMJOCC_ Not in universe',\n",
       " 'AMJOCC_ Other service',\n",
       " 'AMJOCC_ Professional specialty',\n",
       " 'AMJOCC_ Sales',\n",
       " 'ARACE_ White',\n",
       " 'AREORGN_ All other',\n",
       " 'ASEX_ Female',\n",
       " 'ASEX_ Male',\n",
       " 'AUNMEM_ No',\n",
       " 'AUNMEM_ Not in universe',\n",
       " 'AWKSTAT_ Children or Armed Forces',\n",
       " 'AWKSTAT_ Full-time schedules',\n",
       " 'AWKSTAT_ Not in labor force',\n",
       " 'FILESTAT_ Joint both under 65',\n",
       " 'FILESTAT_ Nonfiler',\n",
       " 'HHDFMX_ Child 18+ never marr Not in a subfamily',\n",
       " 'HHDFMX_ Child <18 never marr not in subfamily',\n",
       " 'HHDFMX_ Householder',\n",
       " 'HHDREL_ Child 18 or older',\n",
       " 'HHDREL_ Child under 18 never married',\n",
       " 'HHDREL_ Householder',\n",
       " 'PARENT_ Both parents present',\n",
       " 'PARENT_ Mother only present',\n",
       " 'PARENT_ Not in universe',\n",
       " 'AAGE',\n",
       " 'ADTIND',\n",
       " 'CAPGAIN',\n",
       " 'CAPLOSS',\n",
       " 'DIVVAL',\n",
       " 'NOEMP',\n",
       " 'VETYN',\n",
       " 'WKSWORK',\n",
       " 'INCOME']"
      ]
     },
     "execution_count": 39,
     "metadata": {},
     "output_type": "execute_result"
    }
   ],
   "source": [
    "feature_list"
   ]
  },
  {
   "cell_type": "code",
   "execution_count": 42,
   "id": "d11b9981-84dc-4cad-9a3c-6ba511c0c09c",
   "metadata": {},
   "outputs": [],
   "source": [
    "train_data = train_data[feature_list]\n",
    "test_data = test_data[feature_list]"
   ]
  },
  {
   "cell_type": "markdown",
   "id": "ab257f7d-cbfa-41cc-80ab-c9283a8bf96f",
   "metadata": {},
   "source": [
    "### Remove variables with high co-variance"
   ]
  },
  {
   "cell_type": "markdown",
   "id": "f42b06d6-6ef9-4a1a-ac5a-fd36a3a692a7",
   "metadata": {},
   "source": [
    "We want to avoid 'inflation' by removing variables that are highly correlated with one another"
   ]
  },
  {
   "cell_type": "code",
   "execution_count": 45,
   "id": "e01ebc2c-b546-4ff2-af66-de1f36b3211f",
   "metadata": {},
   "outputs": [],
   "source": [
    "df_cor_matrix = train_data.corr().abs()"
   ]
  },
  {
   "cell_type": "code",
   "execution_count": 47,
   "id": "e5d61d51-39b6-4f6a-a15e-af71d3cb287a",
   "metadata": {},
   "outputs": [],
   "source": [
    "upper_tri = df_cor_matrix.where(np.triu(np.ones(df_cor_matrix.shape),k=1).astype(np.bool))"
   ]
  },
  {
   "cell_type": "code",
   "execution_count": 48,
   "id": "29267993-fe6d-41cf-bf37-03665579b0c1",
   "metadata": {},
   "outputs": [],
   "source": [
    "high_covariance = [column for column in upper_tri.columns if any(upper_tri[column] > 0.95)]"
   ]
  },
  {
   "cell_type": "code",
   "execution_count": 49,
   "id": "fbd844a0-b305-400f-a628-1459097530a6",
   "metadata": {},
   "outputs": [
    {
     "name": "stdout",
     "output_type": "stream",
     "text": [
      "['AMJIND_ Not in universe or children', 'AMJOCC_ Not in universe', 'ASEX_ Male', 'HHDREL_ Child under 18 never married', 'VETYN']\n"
     ]
    }
   ],
   "source": [
    "print(high_covariance)"
   ]
  },
  {
   "cell_type": "code",
   "execution_count": 51,
   "id": "6449c8b5-60ca-46a3-9a50-f94d9d186ee7",
   "metadata": {},
   "outputs": [],
   "source": [
    "train_data = train_data.drop(high_covariance,1)"
   ]
  },
  {
   "cell_type": "code",
   "execution_count": 52,
   "id": "06ce1d8a-185a-46ab-8097-b34371768eab",
   "metadata": {},
   "outputs": [],
   "source": [
    "test_data = test_data.drop(high_covariance,1)"
   ]
  },
  {
   "cell_type": "code",
   "execution_count": 53,
   "id": "ffa271fb-bce6-4fb8-868a-ef4fd7b9882a",
   "metadata": {},
   "outputs": [],
   "source": [
    "train_data.to_csv('train_eda.csv', index=False)\n",
    "test_data.to_csv('test_eda.csv', index=False)"
   ]
  }
 ],
 "metadata": {
  "kernelspec": {
   "display_name": "Python 3 (ipykernel)",
   "language": "python",
   "name": "python3"
  },
  "language_info": {
   "codemirror_mode": {
    "name": "ipython",
    "version": 3
   },
   "file_extension": ".py",
   "mimetype": "text/x-python",
   "name": "python",
   "nbconvert_exporter": "python",
   "pygments_lexer": "ipython3",
   "version": "3.9.5"
  }
 },
 "nbformat": 4,
 "nbformat_minor": 5
}
